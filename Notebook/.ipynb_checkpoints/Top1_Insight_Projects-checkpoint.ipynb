{
 "cells": [
  {
   "cell_type": "markdown",
   "id": "4fe5df58",
   "metadata": {},
   "source": [
    "# Imports"
   ]
  },
  {
   "cell_type": "code",
   "execution_count": 8,
   "id": "25f61442",
   "metadata": {
    "ExecuteTime": {
     "end_time": "2021-05-31T17:04:22.205019Z",
     "start_time": "2021-05-31T17:04:22.187795Z"
    }
   },
   "outputs": [],
   "source": [
    "import pandas as pd\n",
    "\n",
    "import inflection"
   ]
  },
  {
   "cell_type": "markdown",
   "id": "b481b637",
   "metadata": {
    "heading_collapsed": true
   },
   "source": [
    "## 0.1 - Loading data"
   ]
  },
  {
   "cell_type": "code",
   "execution_count": 4,
   "id": "b26c1456",
   "metadata": {
    "ExecuteTime": {
     "end_time": "2021-05-31T17:02:54.558026Z",
     "start_time": "2021-05-31T17:02:54.528106Z"
    },
    "hidden": true
   },
   "outputs": [],
   "source": [
    "df = pd.read_csv(\"../data/data.csv\")"
   ]
  },
  {
   "cell_type": "code",
   "execution_count": 5,
   "id": "e4dd0d51",
   "metadata": {
    "ExecuteTime": {
     "end_time": "2021-05-31T17:03:13.125993Z",
     "start_time": "2021-05-31T17:03:13.099065Z"
    },
    "hidden": true
   },
   "outputs": [
    {
     "data": {
      "text/html": [
       "<div>\n",
       "<style scoped>\n",
       "    .dataframe tbody tr th:only-of-type {\n",
       "        vertical-align: middle;\n",
       "    }\n",
       "\n",
       "    .dataframe tbody tr th {\n",
       "        vertical-align: top;\n",
       "    }\n",
       "\n",
       "    .dataframe thead th {\n",
       "        text-align: right;\n",
       "    }\n",
       "</style>\n",
       "<table border=\"1\" class=\"dataframe\">\n",
       "  <thead>\n",
       "    <tr style=\"text-align: right;\">\n",
       "      <th></th>\n",
       "      <th>ID</th>\n",
       "      <th>Warehouse_block</th>\n",
       "      <th>Mode_of_Shipment</th>\n",
       "      <th>Customer_care_calls</th>\n",
       "      <th>Customer_rating</th>\n",
       "      <th>Cost_of_the_Product</th>\n",
       "      <th>Prior_purchases</th>\n",
       "      <th>Product_importance</th>\n",
       "      <th>Gender</th>\n",
       "      <th>Discount_offered</th>\n",
       "      <th>Weight_in_gms</th>\n",
       "      <th>Reached.on.Time_Y.N</th>\n",
       "    </tr>\n",
       "  </thead>\n",
       "  <tbody>\n",
       "    <tr>\n",
       "      <th>0</th>\n",
       "      <td>1</td>\n",
       "      <td>D</td>\n",
       "      <td>Flight</td>\n",
       "      <td>4</td>\n",
       "      <td>2</td>\n",
       "      <td>177</td>\n",
       "      <td>3</td>\n",
       "      <td>low</td>\n",
       "      <td>F</td>\n",
       "      <td>44</td>\n",
       "      <td>1233</td>\n",
       "      <td>1</td>\n",
       "    </tr>\n",
       "    <tr>\n",
       "      <th>1</th>\n",
       "      <td>2</td>\n",
       "      <td>F</td>\n",
       "      <td>Flight</td>\n",
       "      <td>4</td>\n",
       "      <td>5</td>\n",
       "      <td>216</td>\n",
       "      <td>2</td>\n",
       "      <td>low</td>\n",
       "      <td>M</td>\n",
       "      <td>59</td>\n",
       "      <td>3088</td>\n",
       "      <td>1</td>\n",
       "    </tr>\n",
       "    <tr>\n",
       "      <th>2</th>\n",
       "      <td>3</td>\n",
       "      <td>A</td>\n",
       "      <td>Flight</td>\n",
       "      <td>2</td>\n",
       "      <td>2</td>\n",
       "      <td>183</td>\n",
       "      <td>4</td>\n",
       "      <td>low</td>\n",
       "      <td>M</td>\n",
       "      <td>48</td>\n",
       "      <td>3374</td>\n",
       "      <td>1</td>\n",
       "    </tr>\n",
       "    <tr>\n",
       "      <th>3</th>\n",
       "      <td>4</td>\n",
       "      <td>B</td>\n",
       "      <td>Flight</td>\n",
       "      <td>3</td>\n",
       "      <td>3</td>\n",
       "      <td>176</td>\n",
       "      <td>4</td>\n",
       "      <td>medium</td>\n",
       "      <td>M</td>\n",
       "      <td>10</td>\n",
       "      <td>1177</td>\n",
       "      <td>1</td>\n",
       "    </tr>\n",
       "    <tr>\n",
       "      <th>4</th>\n",
       "      <td>5</td>\n",
       "      <td>C</td>\n",
       "      <td>Flight</td>\n",
       "      <td>2</td>\n",
       "      <td>2</td>\n",
       "      <td>184</td>\n",
       "      <td>3</td>\n",
       "      <td>medium</td>\n",
       "      <td>F</td>\n",
       "      <td>46</td>\n",
       "      <td>2484</td>\n",
       "      <td>1</td>\n",
       "    </tr>\n",
       "  </tbody>\n",
       "</table>\n",
       "</div>"
      ],
      "text/plain": [
       "   ID Warehouse_block Mode_of_Shipment  Customer_care_calls  Customer_rating  \\\n",
       "0   1               D           Flight                    4                2   \n",
       "1   2               F           Flight                    4                5   \n",
       "2   3               A           Flight                    2                2   \n",
       "3   4               B           Flight                    3                3   \n",
       "4   5               C           Flight                    2                2   \n",
       "\n",
       "   Cost_of_the_Product  Prior_purchases Product_importance Gender  \\\n",
       "0                  177                3                low      F   \n",
       "1                  216                2                low      M   \n",
       "2                  183                4                low      M   \n",
       "3                  176                4             medium      M   \n",
       "4                  184                3             medium      F   \n",
       "\n",
       "   Discount_offered  Weight_in_gms  Reached.on.Time_Y.N  \n",
       "0                44           1233                    1  \n",
       "1                59           3088                    1  \n",
       "2                48           3374                    1  \n",
       "3                10           1177                    1  \n",
       "4                46           2484                    1  "
      ]
     },
     "execution_count": 5,
     "metadata": {},
     "output_type": "execute_result"
    }
   ],
   "source": [
    "data.head()"
   ]
  },
  {
   "cell_type": "markdown",
   "id": "7b097899",
   "metadata": {},
   "source": [
    "# 1.0 - Data Description"
   ]
  },
  {
   "cell_type": "markdown",
   "id": "81101b5e",
   "metadata": {
    "heading_collapsed": true
   },
   "source": [
    "## 1.0.1 - Renaming columns"
   ]
  },
  {
   "cell_type": "code",
   "execution_count": 10,
   "id": "30e8d715",
   "metadata": {
    "ExecuteTime": {
     "end_time": "2021-05-31T17:05:24.643880Z",
     "start_time": "2021-05-31T17:05:24.633908Z"
    },
    "hidden": true
   },
   "outputs": [],
   "source": [
    "df1 = df.copy()"
   ]
  },
  {
   "cell_type": "code",
   "execution_count": 16,
   "id": "70dd1bbc",
   "metadata": {
    "ExecuteTime": {
     "end_time": "2021-05-31T17:08:54.045087Z",
     "start_time": "2021-05-31T17:08:54.032124Z"
    },
    "hidden": true
   },
   "outputs": [
    {
     "data": {
      "text/plain": [
       "Index(['ID', 'Warehouse_block', 'Mode_of_Shipment', 'Customer_care_calls',\n",
       "       'Customer_rating', 'Cost_of_the_Product', 'Prior_purchases',\n",
       "       'Product_importance', 'Gender', 'Discount_offered', 'Weight_in_gms',\n",
       "       'Reached.on.Time_Y.N'],\n",
       "      dtype='object')"
      ]
     },
     "execution_count": 16,
     "metadata": {},
     "output_type": "execute_result"
    }
   ],
   "source": [
    "df1.columns"
   ]
  },
  {
   "cell_type": "code",
   "execution_count": 9,
   "id": "cda552b4",
   "metadata": {
    "ExecuteTime": {
     "end_time": "2021-05-31T17:05:01.094678Z",
     "start_time": "2021-05-31T17:05:01.085704Z"
    },
    "hidden": true
   },
   "outputs": [],
   "source": [
    "columns_old = df.columns"
   ]
  },
  {
   "cell_type": "code",
   "execution_count": 21,
   "id": "2ccb14a6",
   "metadata": {
    "ExecuteTime": {
     "end_time": "2021-05-31T17:09:55.782917Z",
     "start_time": "2021-05-31T17:09:55.765911Z"
    },
    "hidden": true
   },
   "outputs": [],
   "source": [
    "#Converting the columns names to snake_case \n",
    "rename_columns = lambda x: inflection.underscore(x)\n",
    "columns_new = list(map(rename_columns, columns_old))\n",
    "\n",
    "#Renaming\n",
    "df1.columns = columns_new"
   ]
  },
  {
   "cell_type": "markdown",
   "id": "c80dfdca",
   "metadata": {},
   "source": [
    "## 1.0.2 - Data Dimension"
   ]
  },
  {
   "cell_type": "code",
   "execution_count": 23,
   "id": "74491701",
   "metadata": {
    "ExecuteTime": {
     "end_time": "2021-05-31T17:12:13.377793Z",
     "start_time": "2021-05-31T17:12:13.362881Z"
    }
   },
   "outputs": [
    {
     "name": "stdout",
     "output_type": "stream",
     "text": [
      "The dataframe has 10999 lines and 12 columns\n"
     ]
    }
   ],
   "source": [
    "print( 'The dataframe has {} lines and {} columns'.format(df1.shape[0], df1.shape[1]) )"
   ]
  },
  {
   "cell_type": "markdown",
   "id": "8761f53b",
   "metadata": {},
   "source": [
    "## 1.0.3 - Data Types"
   ]
  },
  {
   "cell_type": "code",
   "execution_count": 24,
   "id": "b1d906d9",
   "metadata": {
    "ExecuteTime": {
     "end_time": "2021-05-31T17:12:58.087700Z",
     "start_time": "2021-05-31T17:12:58.069747Z"
    }
   },
   "outputs": [
    {
     "data": {
      "text/plain": [
       "id                      int64\n",
       "warehouse_block        object\n",
       "mode_of_shipment       object\n",
       "customer_care_calls     int64\n",
       "customer_rating         int64\n",
       "cost_of_the_product     int64\n",
       "prior_purchases         int64\n",
       "product_importance     object\n",
       "gender                 object\n",
       "discount_offered        int64\n",
       "weight_in_gms           int64\n",
       "reached.on.time_y.n     int64\n",
       "dtype: object"
      ]
     },
     "execution_count": 24,
     "metadata": {},
     "output_type": "execute_result"
    }
   ],
   "source": [
    "df1.dtypes"
   ]
  },
  {
   "cell_type": "code",
   "execution_count": null,
   "id": "a5d3a365",
   "metadata": {},
   "outputs": [],
   "source": []
  }
 ],
 "metadata": {
  "kernelspec": {
   "display_name": "Python 3",
   "language": "python",
   "name": "python3"
  },
  "language_info": {
   "codemirror_mode": {
    "name": "ipython",
    "version": 3
   },
   "file_extension": ".py",
   "mimetype": "text/x-python",
   "name": "python",
   "nbconvert_exporter": "python",
   "pygments_lexer": "ipython3",
   "version": "3.8.8"
  }
 },
 "nbformat": 4,
 "nbformat_minor": 5
}
