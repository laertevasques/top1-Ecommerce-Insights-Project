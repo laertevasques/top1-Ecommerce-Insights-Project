{
 "cells": [
  {
   "cell_type": "markdown",
   "id": "96ed03e9",
   "metadata": {
    "heading_collapsed": true
   },
   "source": [
    "## DICTIONARY"
   ]
  },
  {
   "cell_type": "markdown",
   "id": "087cba4f",
   "metadata": {
    "hidden": true
   },
   "source": [
    "<b>ID:</b> ID Number of Customers. <br><br>\n",
    "<b>Warehouse block:</b> The Company have big Warehouse which is divided in to block such as A,B,C,D,E.\n",
    "<br><br>\n",
    "<b>Mode of shipment:</b> The Company Ships the products in multiple way such as Ship, Flight and Road.<br><br>\n",
    "<b>Customer care calls:</b> The number of calls made from enquiry for enquiry of the shipment.<br><br>\n",
    "<b>Customer rating:</b> The company has rated from every customer. 1 is the lowest (Worst), 5 is the highest (Best).<br><br>\n",
    "<b>Cost of the product:</b> Cost of the Product in US Dollars.<br><br>\n",
    "<b>Prior purchases:</b> The Number of Prior Purchase.<br><br>\n",
    "<b>Product importance:</b> The company has categorized the product in the various parameter such as low, medium, high.<br><br>\n",
    "<b>Gender:</b> Male and Female.<br><br>\n",
    "<b>Discount offered:</b> Discount offered on that specific product.<br><br>\n",
    "<b>Weight in gms:</b> It is the weight in grams.<br><br>\n",
    "<b>Reached on time:</b> 1 Indicates that the product has NOT reached on time and 0 indicates it has reached on time.<br><br>"
   ]
  },
  {
   "cell_type": "markdown",
   "id": "4fe5df58",
   "metadata": {
    "heading_collapsed": true
   },
   "source": [
    "# Imports"
   ]
  },
  {
   "cell_type": "code",
   "execution_count": 4,
   "id": "25f61442",
   "metadata": {
    "ExecuteTime": {
     "end_time": "2021-06-01T19:03:47.056712Z",
     "start_time": "2021-06-01T19:03:47.046740Z"
    },
    "hidden": true
   },
   "outputs": [],
   "source": [
    "import pandas as pd\n",
    "import numpy as np\n",
    "import inflection\n",
    "\n",
    "import seaborn as sns\n",
    "import matplotlib.pyplot as plt\n",
    "\n",
    "from IPython.display import Image\n",
    "\n"
   ]
  },
  {
   "cell_type": "markdown",
   "id": "b481b637",
   "metadata": {
    "hidden": true
   },
   "source": [
    "## 0.1 - Loading data"
   ]
  },
  {
   "cell_type": "code",
   "execution_count": 2,
   "id": "b26c1456",
   "metadata": {
    "ExecuteTime": {
     "end_time": "2021-05-31T19:53:20.114779Z",
     "start_time": "2021-05-31T19:53:20.087845Z"
    },
    "hidden": true
   },
   "outputs": [],
   "source": [
    "df = pd.read_csv(\"../data/data.csv\")"
   ]
  },
  {
   "cell_type": "code",
   "execution_count": 3,
   "id": "e4dd0d51",
   "metadata": {
    "ExecuteTime": {
     "end_time": "2021-05-31T19:53:20.130726Z",
     "start_time": "2021-05-31T19:53:20.115766Z"
    },
    "hidden": true
   },
   "outputs": [
    {
     "data": {
      "text/html": [
       "<div>\n",
       "<style scoped>\n",
       "    .dataframe tbody tr th:only-of-type {\n",
       "        vertical-align: middle;\n",
       "    }\n",
       "\n",
       "    .dataframe tbody tr th {\n",
       "        vertical-align: top;\n",
       "    }\n",
       "\n",
       "    .dataframe thead th {\n",
       "        text-align: right;\n",
       "    }\n",
       "</style>\n",
       "<table border=\"1\" class=\"dataframe\">\n",
       "  <thead>\n",
       "    <tr style=\"text-align: right;\">\n",
       "      <th></th>\n",
       "      <th>ID</th>\n",
       "      <th>Warehouse_block</th>\n",
       "      <th>Mode_of_Shipment</th>\n",
       "      <th>Customer_care_calls</th>\n",
       "      <th>Customer_rating</th>\n",
       "      <th>Cost_of_the_Product</th>\n",
       "      <th>Prior_purchases</th>\n",
       "      <th>Product_importance</th>\n",
       "      <th>Gender</th>\n",
       "      <th>Discount_offered</th>\n",
       "      <th>Weight_in_gms</th>\n",
       "      <th>Reached.on.Time_Y.N</th>\n",
       "    </tr>\n",
       "  </thead>\n",
       "  <tbody>\n",
       "    <tr>\n",
       "      <th>0</th>\n",
       "      <td>1</td>\n",
       "      <td>D</td>\n",
       "      <td>Flight</td>\n",
       "      <td>4</td>\n",
       "      <td>2</td>\n",
       "      <td>177</td>\n",
       "      <td>3</td>\n",
       "      <td>low</td>\n",
       "      <td>F</td>\n",
       "      <td>44</td>\n",
       "      <td>1233</td>\n",
       "      <td>1</td>\n",
       "    </tr>\n",
       "    <tr>\n",
       "      <th>1</th>\n",
       "      <td>2</td>\n",
       "      <td>F</td>\n",
       "      <td>Flight</td>\n",
       "      <td>4</td>\n",
       "      <td>5</td>\n",
       "      <td>216</td>\n",
       "      <td>2</td>\n",
       "      <td>low</td>\n",
       "      <td>M</td>\n",
       "      <td>59</td>\n",
       "      <td>3088</td>\n",
       "      <td>1</td>\n",
       "    </tr>\n",
       "    <tr>\n",
       "      <th>2</th>\n",
       "      <td>3</td>\n",
       "      <td>A</td>\n",
       "      <td>Flight</td>\n",
       "      <td>2</td>\n",
       "      <td>2</td>\n",
       "      <td>183</td>\n",
       "      <td>4</td>\n",
       "      <td>low</td>\n",
       "      <td>M</td>\n",
       "      <td>48</td>\n",
       "      <td>3374</td>\n",
       "      <td>1</td>\n",
       "    </tr>\n",
       "    <tr>\n",
       "      <th>3</th>\n",
       "      <td>4</td>\n",
       "      <td>B</td>\n",
       "      <td>Flight</td>\n",
       "      <td>3</td>\n",
       "      <td>3</td>\n",
       "      <td>176</td>\n",
       "      <td>4</td>\n",
       "      <td>medium</td>\n",
       "      <td>M</td>\n",
       "      <td>10</td>\n",
       "      <td>1177</td>\n",
       "      <td>1</td>\n",
       "    </tr>\n",
       "    <tr>\n",
       "      <th>4</th>\n",
       "      <td>5</td>\n",
       "      <td>C</td>\n",
       "      <td>Flight</td>\n",
       "      <td>2</td>\n",
       "      <td>2</td>\n",
       "      <td>184</td>\n",
       "      <td>3</td>\n",
       "      <td>medium</td>\n",
       "      <td>F</td>\n",
       "      <td>46</td>\n",
       "      <td>2484</td>\n",
       "      <td>1</td>\n",
       "    </tr>\n",
       "  </tbody>\n",
       "</table>\n",
       "</div>"
      ],
      "text/plain": [
       "   ID Warehouse_block Mode_of_Shipment  Customer_care_calls  Customer_rating  \\\n",
       "0   1               D           Flight                    4                2   \n",
       "1   2               F           Flight                    4                5   \n",
       "2   3               A           Flight                    2                2   \n",
       "3   4               B           Flight                    3                3   \n",
       "4   5               C           Flight                    2                2   \n",
       "\n",
       "   Cost_of_the_Product  Prior_purchases Product_importance Gender  \\\n",
       "0                  177                3                low      F   \n",
       "1                  216                2                low      M   \n",
       "2                  183                4                low      M   \n",
       "3                  176                4             medium      M   \n",
       "4                  184                3             medium      F   \n",
       "\n",
       "   Discount_offered  Weight_in_gms  Reached.on.Time_Y.N  \n",
       "0                44           1233                    1  \n",
       "1                59           3088                    1  \n",
       "2                48           3374                    1  \n",
       "3                10           1177                    1  \n",
       "4                46           2484                    1  "
      ]
     },
     "execution_count": 3,
     "metadata": {},
     "output_type": "execute_result"
    }
   ],
   "source": [
    "df.head()"
   ]
  },
  {
   "cell_type": "markdown",
   "id": "7b097899",
   "metadata": {},
   "source": [
    "# 1.0 - DATA DESCRIPTION"
   ]
  },
  {
   "cell_type": "markdown",
   "id": "81101b5e",
   "metadata": {},
   "source": [
    "## 1.0.1 - Renaming columns"
   ]
  },
  {
   "cell_type": "code",
   "execution_count": 4,
   "id": "30e8d715",
   "metadata": {
    "ExecuteTime": {
     "end_time": "2021-05-31T19:53:20.146693Z",
     "start_time": "2021-05-31T19:53:20.131724Z"
    }
   },
   "outputs": [],
   "source": [
    "df1 = df.copy()"
   ]
  },
  {
   "cell_type": "code",
   "execution_count": 5,
   "id": "70dd1bbc",
   "metadata": {
    "ExecuteTime": {
     "end_time": "2021-05-31T19:53:20.162641Z",
     "start_time": "2021-05-31T19:53:20.151675Z"
    }
   },
   "outputs": [
    {
     "data": {
      "text/plain": [
       "Index(['ID', 'Warehouse_block', 'Mode_of_Shipment', 'Customer_care_calls',\n",
       "       'Customer_rating', 'Cost_of_the_Product', 'Prior_purchases',\n",
       "       'Product_importance', 'Gender', 'Discount_offered', 'Weight_in_gms',\n",
       "       'Reached.on.Time_Y.N'],\n",
       "      dtype='object')"
      ]
     },
     "execution_count": 5,
     "metadata": {},
     "output_type": "execute_result"
    }
   ],
   "source": [
    "df1.columns"
   ]
  },
  {
   "cell_type": "code",
   "execution_count": 6,
   "id": "cda552b4",
   "metadata": {
    "ExecuteTime": {
     "end_time": "2021-05-31T19:53:20.178599Z",
     "start_time": "2021-05-31T19:53:20.165633Z"
    }
   },
   "outputs": [],
   "source": [
    "columns_old = df.columns"
   ]
  },
  {
   "cell_type": "code",
   "execution_count": 7,
   "id": "2ccb14a6",
   "metadata": {
    "ExecuteTime": {
     "end_time": "2021-05-31T19:53:20.194569Z",
     "start_time": "2021-05-31T19:53:20.179595Z"
    }
   },
   "outputs": [],
   "source": [
    "#Converting the columns names to snake_case \n",
    "rename_columns = lambda x: inflection.underscore(x)\n",
    "columns_new = list(map(rename_columns, columns_old))\n",
    "\n",
    "#Renaming\n",
    "df1.columns = columns_new"
   ]
  },
  {
   "cell_type": "markdown",
   "id": "c80dfdca",
   "metadata": {},
   "source": [
    "## 1.0.2 - Data Dimension"
   ]
  },
  {
   "cell_type": "code",
   "execution_count": 8,
   "id": "74491701",
   "metadata": {
    "ExecuteTime": {
     "end_time": "2021-05-31T19:53:20.226469Z",
     "start_time": "2021-05-31T19:53:20.208519Z"
    }
   },
   "outputs": [
    {
     "name": "stdout",
     "output_type": "stream",
     "text": [
      "The dataframe has 10999 lines and 12 columns\n"
     ]
    }
   ],
   "source": [
    "print( 'The dataframe has {} lines and {} columns'.format(df1.shape[0], df1.shape[1]) )"
   ]
  },
  {
   "cell_type": "markdown",
   "id": "8761f53b",
   "metadata": {},
   "source": [
    "## 1.0.3 - Data Types"
   ]
  },
  {
   "cell_type": "code",
   "execution_count": 9,
   "id": "b1d906d9",
   "metadata": {
    "ExecuteTime": {
     "end_time": "2021-05-31T19:53:20.242428Z",
     "start_time": "2021-05-31T19:53:20.228465Z"
    }
   },
   "outputs": [
    {
     "name": "stdout",
     "output_type": "stream",
     "text": [
      "<class 'pandas.core.frame.DataFrame'>\n",
      "RangeIndex: 10999 entries, 0 to 10998\n",
      "Data columns (total 12 columns):\n",
      " #   Column               Non-Null Count  Dtype \n",
      "---  ------               --------------  ----- \n",
      " 0   id                   10999 non-null  int64 \n",
      " 1   warehouse_block      10999 non-null  object\n",
      " 2   mode_of_shipment     10999 non-null  object\n",
      " 3   customer_care_calls  10999 non-null  int64 \n",
      " 4   customer_rating      10999 non-null  int64 \n",
      " 5   cost_of_the_product  10999 non-null  int64 \n",
      " 6   prior_purchases      10999 non-null  int64 \n",
      " 7   product_importance   10999 non-null  object\n",
      " 8   gender               10999 non-null  object\n",
      " 9   discount_offered     10999 non-null  int64 \n",
      " 10  weight_in_gms        10999 non-null  int64 \n",
      " 11  reached.on.time_y.n  10999 non-null  int64 \n",
      "dtypes: int64(8), object(4)\n",
      "memory usage: 1.0+ MB\n"
     ]
    }
   ],
   "source": [
    "df1.info()"
   ]
  },
  {
   "cell_type": "code",
   "execution_count": 31,
   "id": "b0716bd3",
   "metadata": {
    "ExecuteTime": {
     "end_time": "2021-05-31T20:01:47.728456Z",
     "start_time": "2021-05-31T20:01:47.705468Z"
    }
   },
   "outputs": [
    {
     "data": {
      "text/plain": [
       "id                       int64\n",
       "warehouse_block         object\n",
       "mode_of_shipment        object\n",
       "customer_care_calls      int64\n",
       "customer_rating          int64\n",
       "cost_of_the_product    float64\n",
       "prior_purchases          int64\n",
       "product_importance      object\n",
       "gender                  object\n",
       "discount_offered         int64\n",
       "weight_in_gms            int64\n",
       "reached.on.time_y.n     object\n",
       "dtype: object"
      ]
     },
     "execution_count": 31,
     "metadata": {},
     "output_type": "execute_result"
    }
   ],
   "source": [
    "# Converting Dtypes \n",
    "df1['cost_of_the_product'] = df1['cost_of_the_product'].astype(float)\n",
    "df1['reached.on.time_y.n'] = df1['reached.on.time_y.n'].astype(str)\n",
    "\n",
    "# And checking again\n",
    "df1.dtypes"
   ]
  },
  {
   "cell_type": "markdown",
   "id": "551777c8",
   "metadata": {},
   "source": [
    "## 1.0.4 - Checking N/A"
   ]
  },
  {
   "cell_type": "code",
   "execution_count": 11,
   "id": "3d8f077b",
   "metadata": {
    "ExecuteTime": {
     "end_time": "2021-05-31T19:53:20.274354Z",
     "start_time": "2021-05-31T19:53:20.260379Z"
    }
   },
   "outputs": [
    {
     "data": {
      "text/plain": [
       "id                     0\n",
       "warehouse_block        0\n",
       "mode_of_shipment       0\n",
       "customer_care_calls    0\n",
       "customer_rating        0\n",
       "cost_of_the_product    0\n",
       "prior_purchases        0\n",
       "product_importance     0\n",
       "gender                 0\n",
       "discount_offered       0\n",
       "weight_in_gms          0\n",
       "reached.on.time_y.n    0\n",
       "dtype: int64"
      ]
     },
     "execution_count": 11,
     "metadata": {},
     "output_type": "execute_result"
    }
   ],
   "source": [
    "df1.isna().sum()"
   ]
  },
  {
   "cell_type": "markdown",
   "id": "91a79cdd",
   "metadata": {},
   "source": [
    "## 1.1 - DESCRIPTIVE STATISTICS"
   ]
  },
  {
   "cell_type": "code",
   "execution_count": 32,
   "id": "b6ca4a24",
   "metadata": {
    "ExecuteTime": {
     "end_time": "2021-05-31T20:01:54.971003Z",
     "start_time": "2021-05-31T20:01:54.958038Z"
    }
   },
   "outputs": [],
   "source": [
    "numerical_list = ['int64', 'float64', 'int32']\n",
    "\n",
    "#Separating numerical and categorical att\n",
    "numerical_attributes = df1.select_dtypes(include = numerical_list)\n",
    "categorical_attributes = df1.select_dtypes(exclude = numerical_list)"
   ]
  },
  {
   "cell_type": "markdown",
   "id": "efcd9aa7",
   "metadata": {},
   "source": [
    "## 1.1.1 Central tendency and dispersion metrics"
   ]
  },
  {
   "cell_type": "code",
   "execution_count": 33,
   "id": "a696328e",
   "metadata": {
    "ExecuteTime": {
     "end_time": "2021-05-31T20:01:59.790569Z",
     "start_time": "2021-05-31T20:01:59.748671Z"
    }
   },
   "outputs": [
    {
     "data": {
      "text/html": [
       "<div>\n",
       "<style scoped>\n",
       "    .dataframe tbody tr th:only-of-type {\n",
       "        vertical-align: middle;\n",
       "    }\n",
       "\n",
       "    .dataframe tbody tr th {\n",
       "        vertical-align: top;\n",
       "    }\n",
       "\n",
       "    .dataframe thead th {\n",
       "        text-align: right;\n",
       "    }\n",
       "</style>\n",
       "<table border=\"1\" class=\"dataframe\">\n",
       "  <thead>\n",
       "    <tr style=\"text-align: right;\">\n",
       "      <th></th>\n",
       "      <th>count</th>\n",
       "      <th>mean</th>\n",
       "      <th>std</th>\n",
       "      <th>min</th>\n",
       "      <th>25%</th>\n",
       "      <th>50%</th>\n",
       "      <th>75%</th>\n",
       "      <th>max</th>\n",
       "    </tr>\n",
       "  </thead>\n",
       "  <tbody>\n",
       "    <tr>\n",
       "      <th>id</th>\n",
       "      <td>10999.0</td>\n",
       "      <td>5500.000000</td>\n",
       "      <td>3175.282140</td>\n",
       "      <td>1.0</td>\n",
       "      <td>2750.5</td>\n",
       "      <td>5500.0</td>\n",
       "      <td>8249.5</td>\n",
       "      <td>10999.0</td>\n",
       "    </tr>\n",
       "    <tr>\n",
       "      <th>customer_care_calls</th>\n",
       "      <td>10999.0</td>\n",
       "      <td>4.054459</td>\n",
       "      <td>1.141490</td>\n",
       "      <td>2.0</td>\n",
       "      <td>3.0</td>\n",
       "      <td>4.0</td>\n",
       "      <td>5.0</td>\n",
       "      <td>7.0</td>\n",
       "    </tr>\n",
       "    <tr>\n",
       "      <th>customer_rating</th>\n",
       "      <td>10999.0</td>\n",
       "      <td>2.990545</td>\n",
       "      <td>1.413603</td>\n",
       "      <td>1.0</td>\n",
       "      <td>2.0</td>\n",
       "      <td>3.0</td>\n",
       "      <td>4.0</td>\n",
       "      <td>5.0</td>\n",
       "    </tr>\n",
       "    <tr>\n",
       "      <th>cost_of_the_product</th>\n",
       "      <td>10999.0</td>\n",
       "      <td>210.196836</td>\n",
       "      <td>48.063272</td>\n",
       "      <td>96.0</td>\n",
       "      <td>169.0</td>\n",
       "      <td>214.0</td>\n",
       "      <td>251.0</td>\n",
       "      <td>310.0</td>\n",
       "    </tr>\n",
       "    <tr>\n",
       "      <th>prior_purchases</th>\n",
       "      <td>10999.0</td>\n",
       "      <td>3.567597</td>\n",
       "      <td>1.522860</td>\n",
       "      <td>2.0</td>\n",
       "      <td>3.0</td>\n",
       "      <td>3.0</td>\n",
       "      <td>4.0</td>\n",
       "      <td>10.0</td>\n",
       "    </tr>\n",
       "    <tr>\n",
       "      <th>discount_offered</th>\n",
       "      <td>10999.0</td>\n",
       "      <td>13.373216</td>\n",
       "      <td>16.205527</td>\n",
       "      <td>1.0</td>\n",
       "      <td>4.0</td>\n",
       "      <td>7.0</td>\n",
       "      <td>10.0</td>\n",
       "      <td>65.0</td>\n",
       "    </tr>\n",
       "    <tr>\n",
       "      <th>weight_in_gms</th>\n",
       "      <td>10999.0</td>\n",
       "      <td>3634.016729</td>\n",
       "      <td>1635.377251</td>\n",
       "      <td>1001.0</td>\n",
       "      <td>1839.5</td>\n",
       "      <td>4149.0</td>\n",
       "      <td>5050.0</td>\n",
       "      <td>7846.0</td>\n",
       "    </tr>\n",
       "  </tbody>\n",
       "</table>\n",
       "</div>"
      ],
      "text/plain": [
       "                       count         mean          std     min     25%  \\\n",
       "id                   10999.0  5500.000000  3175.282140     1.0  2750.5   \n",
       "customer_care_calls  10999.0     4.054459     1.141490     2.0     3.0   \n",
       "customer_rating      10999.0     2.990545     1.413603     1.0     2.0   \n",
       "cost_of_the_product  10999.0   210.196836    48.063272    96.0   169.0   \n",
       "prior_purchases      10999.0     3.567597     1.522860     2.0     3.0   \n",
       "discount_offered     10999.0    13.373216    16.205527     1.0     4.0   \n",
       "weight_in_gms        10999.0  3634.016729  1635.377251  1001.0  1839.5   \n",
       "\n",
       "                        50%     75%      max  \n",
       "id                   5500.0  8249.5  10999.0  \n",
       "customer_care_calls     4.0     5.0      7.0  \n",
       "customer_rating         3.0     4.0      5.0  \n",
       "cost_of_the_product   214.0   251.0    310.0  \n",
       "prior_purchases         3.0     4.0     10.0  \n",
       "discount_offered        7.0    10.0     65.0  \n",
       "weight_in_gms        4149.0  5050.0   7846.0  "
      ]
     },
     "execution_count": 33,
     "metadata": {},
     "output_type": "execute_result"
    }
   ],
   "source": [
    "df1.describe().T"
   ]
  },
  {
   "cell_type": "markdown",
   "id": "19740711",
   "metadata": {},
   "source": [
    "## 1.1.2 Verifying outliers"
   ]
  },
  {
   "cell_type": "code",
   "execution_count": 34,
   "id": "2ddabcca",
   "metadata": {
    "ExecuteTime": {
     "end_time": "2021-05-31T20:02:02.798605Z",
     "start_time": "2021-05-31T20:02:02.788657Z"
    }
   },
   "outputs": [
    {
     "data": {
      "text/plain": [
       "Index(['id', 'customer_care_calls', 'customer_rating', 'cost_of_the_product',\n",
       "       'prior_purchases', 'discount_offered', 'weight_in_gms'],\n",
       "      dtype='object')"
      ]
     },
     "execution_count": 34,
     "metadata": {},
     "output_type": "execute_result"
    }
   ],
   "source": [
    "numerical_attributes.columns"
   ]
  },
  {
   "cell_type": "code",
   "execution_count": 60,
   "id": "c796fbfb",
   "metadata": {
    "ExecuteTime": {
     "end_time": "2021-05-31T20:21:50.356223Z",
     "start_time": "2021-05-31T20:21:49.785512Z"
    }
   },
   "outputs": [
    {
     "data": {
      "text/plain": [
       "<AxesSubplot:title={'center':'weight_in_gms'}>"
      ]
     },
     "execution_count": 60,
     "metadata": {},
     "output_type": "execute_result"
    },
    {
     "data": {
      "image/png": "[encoded data removed]",
      "text/plain": [
       "<Figure size 1440x864 with 6 Axes>"
      ]
     },
     "metadata": {},
     "output_type": "display_data"
    }
   ],
   "source": [
    "#Ploting the boxplot to verify if we've outliers\n",
    "plt.figure(figsize=(20,12))\n",
    "sns.set_theme(style=\"whitegrid\")\n",
    "\n",
    "plt.subplot(2,3,1)\n",
    "plt.title('customer_care_calls')\n",
    "sns.boxplot(data = numerical_attributes['customer_care_calls'])\n",
    "\n",
    "plt.subplot(2,3,2)\n",
    "plt.title('customer_rating')\n",
    "sns.boxplot(data = numerical_attributes['customer_rating'])\n",
    "\n",
    "plt.subplot(2,3,3)\n",
    "plt.title('cost_of_the_product')\n",
    "sns.boxplot(data = numerical_attributes['cost_of_the_product'])\n",
    "\n",
    "plt.subplot(2,3,4)\n",
    "plt.title('prior_purchases')\n",
    "sns.boxplot(data = numerical_attributes['prior_purchases'])\n",
    "\n",
    "plt.subplot(2,3,5)\n",
    "plt.title('discount_offered')\n",
    "sns.boxplot(data = numerical_attributes['discount_offered'])\n",
    "\n",
    "plt.subplot(2,3,6)\n",
    "plt.title('weight_in_gms')\n",
    "sns.boxplot(data = numerical_attributes['weight_in_gms'])"
   ]
  },
  {
   "cell_type": "code",
   "execution_count": 68,
   "id": "5038015c",
   "metadata": {
    "ExecuteTime": {
     "end_time": "2021-05-31T20:29:24.333849Z",
     "start_time": "2021-05-31T20:29:24.302878Z"
    }
   },
   "outputs": [
    {
     "data": {
      "text/html": [
       "<div>\n",
       "<style scoped>\n",
       "    .dataframe tbody tr th:only-of-type {\n",
       "        vertical-align: middle;\n",
       "    }\n",
       "\n",
       "    .dataframe tbody tr th {\n",
       "        vertical-align: top;\n",
       "    }\n",
       "\n",
       "    .dataframe thead th {\n",
       "        text-align: right;\n",
       "    }\n",
       "</style>\n",
       "<table border=\"1\" class=\"dataframe\">\n",
       "  <thead>\n",
       "    <tr style=\"text-align: right;\">\n",
       "      <th></th>\n",
       "      <th>index</th>\n",
       "      <th>prior_purchases</th>\n",
       "      <th>discount_offered</th>\n",
       "    </tr>\n",
       "  </thead>\n",
       "  <tbody>\n",
       "    <tr>\n",
       "      <th>0</th>\n",
       "      <td>count</td>\n",
       "      <td>10999.000000</td>\n",
       "      <td>10999.000000</td>\n",
       "    </tr>\n",
       "    <tr>\n",
       "      <th>1</th>\n",
       "      <td>mean</td>\n",
       "      <td>3.567597</td>\n",
       "      <td>13.373216</td>\n",
       "    </tr>\n",
       "    <tr>\n",
       "      <th>2</th>\n",
       "      <td>std</td>\n",
       "      <td>1.522860</td>\n",
       "      <td>16.205527</td>\n",
       "    </tr>\n",
       "    <tr>\n",
       "      <th>3</th>\n",
       "      <td>min</td>\n",
       "      <td>2.000000</td>\n",
       "      <td>1.000000</td>\n",
       "    </tr>\n",
       "    <tr>\n",
       "      <th>4</th>\n",
       "      <td>25%</td>\n",
       "      <td>3.000000</td>\n",
       "      <td>4.000000</td>\n",
       "    </tr>\n",
       "    <tr>\n",
       "      <th>5</th>\n",
       "      <td>50%</td>\n",
       "      <td>3.000000</td>\n",
       "      <td>7.000000</td>\n",
       "    </tr>\n",
       "    <tr>\n",
       "      <th>6</th>\n",
       "      <td>75%</td>\n",
       "      <td>4.000000</td>\n",
       "      <td>10.000000</td>\n",
       "    </tr>\n",
       "    <tr>\n",
       "      <th>7</th>\n",
       "      <td>max</td>\n",
       "      <td>10.000000</td>\n",
       "      <td>65.000000</td>\n",
       "    </tr>\n",
       "  </tbody>\n",
       "</table>\n",
       "</div>"
      ],
      "text/plain": [
       "   index  prior_purchases  discount_offered\n",
       "0  count     10999.000000      10999.000000\n",
       "1   mean         3.567597         13.373216\n",
       "2    std         1.522860         16.205527\n",
       "3    min         2.000000          1.000000\n",
       "4    25%         3.000000          4.000000\n",
       "5    50%         3.000000          7.000000\n",
       "6    75%         4.000000         10.000000\n",
       "7    max        10.000000         65.000000"
      ]
     },
     "execution_count": 68,
     "metadata": {},
     "output_type": "execute_result"
    }
   ],
   "source": [
    "#Outliers or not?\n",
    "\n",
    "#prior_purchases\n",
    "prior_purchases = pd.DataFrame( df1['prior_purchases'].describe() ).reset_index()\n",
    "\n",
    "#discount_offered \n",
    "discount = pd.DataFrame ( df1['discount_offered'].describe() ).reset_index()\n",
    "\n",
    "pd.merge(prior_purchases, discount)\n",
    "\n",
    "#CONCLUSION -- After analyzing both attributes, we can conclude that they aren't outliers, so, we don't need to remove they.\n"
   ]
  },
  {
   "cell_type": "markdown",
   "id": "7cc4adb4",
   "metadata": {},
   "source": [
    "## 1.1.3 Categorical attributes "
   ]
  },
  {
   "cell_type": "code",
   "execution_count": 14,
   "id": "48b230ef",
   "metadata": {
    "ExecuteTime": {
     "end_time": "2021-05-31T19:53:20.338171Z",
     "start_time": "2021-05-31T19:53:20.327202Z"
    }
   },
   "outputs": [
    {
     "data": {
      "text/plain": [
       "Index(['warehouse_block', 'mode_of_shipment', 'product_importance', 'gender'], dtype='object')"
      ]
     },
     "execution_count": 14,
     "metadata": {},
     "output_type": "execute_result"
    }
   ],
   "source": [
    "categorical_attributes.columns"
   ]
  },
  {
   "cell_type": "code",
   "execution_count": 15,
   "id": "9cbfb44f",
   "metadata": {
    "ExecuteTime": {
     "end_time": "2021-05-31T19:53:20.386053Z",
     "start_time": "2021-05-31T19:53:20.340166Z"
    }
   },
   "outputs": [],
   "source": [
    "#warehouse_block\n",
    "warehouse_block = categorical_attributes['warehouse_block'].value_counts(normalize = True).reset_index()\n",
    "warehouse_block.columns = ['warehouse_block', 'values']\n",
    "\n",
    "#mode_of_shipment\n",
    "shipment = categorical_attributes['mode_of_shipment'].value_counts(normalize = True).reset_index()\n",
    "shipment.columns = ['shipment', 'values']\n",
    "\n",
    "#product_importance\n",
    "product_importance = categorical_attributes['product_importance'].value_counts(normalize = True).reset_index()\n",
    "product_importance.columns = ['product_importance', 'values']\n",
    "\n",
    "#gender\n",
    "gender = categorical_attributes['gender'].value_counts(normalize = True).reset_index()\n",
    "gender.columns = ['gender', 'values']\n"
   ]
  },
  {
   "cell_type": "code",
   "execution_count": 16,
   "id": "fa8a72fa",
   "metadata": {
    "ExecuteTime": {
     "end_time": "2021-05-31T19:53:20.785013Z",
     "start_time": "2021-05-31T19:53:20.387040Z"
    }
   },
   "outputs": [
    {
     "data": {
      "text/plain": [
       "<AxesSubplot:xlabel='gender', ylabel='values'>"
      ]
     },
     "execution_count": 16,
     "metadata": {},
     "output_type": "execute_result"
    },
    {
     "data": {
      "image/png": "[encoded data removed]",
      "text/plain": [
       "<Figure size 1440x864 with 4 Axes>"
      ]
     },
     "metadata": {
      "needs_background": "light"
     },
     "output_type": "display_data"
    }
   ],
   "source": [
    "plt.figure(figsize = (20,12))\n",
    "\n",
    "plt.subplot(2,2,1)\n",
    "sns.barplot(x = 'warehouse_block', y = 'values', data = warehouse_block, palette = 'flare')\n",
    "\n",
    "\n",
    "plt.subplot(2,2,2)\n",
    "sns.barplot(x = 'shipment', y = 'values', data = shipment, palette = 'flare')\n",
    "\n",
    "plt.subplot(2,2,3)\n",
    "sns.barplot(x = 'product_importance', y = 'values', data = product_importance, palette = 'flare')\n",
    "\n",
    "\n",
    "plt.subplot(2,2,4)\n",
    "sns.barplot(x = 'gender', y = 'values', data = gender, palette = 'flare')"
   ]
  },
  {
   "cell_type": "markdown",
   "id": "cdc86f61",
   "metadata": {},
   "source": [
    "# 2.0 - FEATURE ENGINEERING"
   ]
  },
  {
   "cell_type": "code",
   "execution_count": 2,
   "id": "441f8963",
   "metadata": {
    "ExecuteTime": {
     "end_time": "2021-06-01T19:02:48.727886Z",
     "start_time": "2021-06-01T19:02:48.710932Z"
    }
   },
   "outputs": [
    {
     "data": {
      "image/png": "[encoded data removed]",
      "text/plain": [
       "<IPython.core.display.Image object>"
      ]
     },
     "execution_count": 2,
     "metadata": {},
     "output_type": "execute_result"
    }
   ],
   "source": [
    "Image('../Images/mindmap.png')"
   ]
  },
  {
   "cell_type": "markdown",
   "id": "2646c5ea",
   "metadata": {},
   "source": [
    "## 2.1"
   ]
  }
 ],
 "metadata": {
  "kernelspec": {
   "display_name": "Python 3",
   "language": "python",
   "name": "python3"
  },
  "language_info": {
   "codemirror_mode": {
    "name": "ipython",
    "version": 3
   },
   "file_extension": ".py",
   "mimetype": "text/x-python",
   "name": "python",
   "nbconvert_exporter": "python",
   "pygments_lexer": "ipython3",
   "version": "3.8.8"
  }
 },
 "nbformat": 4,
 "nbformat_minor": 5
}
