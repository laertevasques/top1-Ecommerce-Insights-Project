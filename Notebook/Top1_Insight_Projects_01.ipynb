{
 "cells": [
  {
   "cell_type": "code",
   "execution_count": null,
   "id": "a1b415ce",
   "metadata": {},
   "outputs": [],
   "source": []
  },
  {
   "cell_type": "markdown",
   "id": "96ed03e9",
   "metadata": {
    "heading_collapsed": true
   },
   "source": [
    "## DICTIONARY"
   ]
  },
  {
   "cell_type": "markdown",
   "id": "087cba4f",
   "metadata": {
    "hidden": true
   },
   "source": [
    "<b>ID:</b> ID Number of Customers. <br><br>\n",
    "<b>Warehouse block:</b> The Company have big Warehouse which is divided in to block such as A,B,C,D,E.\n",
    "<br><br>\n",
    "<b>Mode of shipment:</b> The Company Ships the products in multiple way such as Ship, Flight and Road.<br><br>\n",
    "<b>Customer care calls:</b> The number of calls made from enquiry for enquiry of the shipment.<br><br>\n",
    "<b>Customer rating:</b> The company has rated from every customer. 1 is the lowest (Worst), 5 is the highest (Best).<br><br>\n",
    "<b>Cost of the product:</b> Cost of the Product in US Dollars.<br><br>\n",
    "<b>Prior purchases:</b> The Number of Prior Purchase.<br><br>\n",
    "<b>Product importance:</b> The company has categorized the product in the various parameter such as low, medium, high.<br><br>\n",
    "<b>Gender:</b> Male and Female.<br><br>\n",
    "<b>Discount offered:</b> Discount offered on that specific product.<br><br>\n",
    "<b>Weight in gms:</b> It is the weight in grams.<br><br>\n",
    "<b>Reached on time:</b> 1 Indicates that the product has NOT reached on time and 0 indicates it has reached on time.<br><br>"
   ]
  },
  {
   "cell_type": "markdown",
   "id": "4fe5df58",
   "metadata": {
    "heading_collapsed": true
   },
   "source": [
    "# Imports"
   ]
  },
  {
   "cell_type": "code",
   "execution_count": 171,
   "id": "25f61442",
   "metadata": {
    "ExecuteTime": {
     "end_time": "2021-06-10T19:05:31.672193Z",
     "start_time": "2021-06-10T19:05:31.662219Z"
    },
    "hidden": true
   },
   "outputs": [],
   "source": [
    "import pandas as pd\n",
    "import numpy as np\n",
    "import inflection\n",
    "\n",
    "import seaborn as sns\n",
    "import matplotlib.pyplot as plt\n",
    "\n",
    "from sklearn import preprocessing\n",
    "import scipy.stats as ss\n",
    "\n",
    "from IPython.display import Image\n",
    "\n"
   ]
  },
  {
   "cell_type": "markdown",
   "id": "b481b637",
   "metadata": {
    "heading_collapsed": true,
    "hidden": true
   },
   "source": [
    "## 0.1 - Loading data"
   ]
  },
  {
   "cell_type": "code",
   "execution_count": 2,
   "id": "b26c1456",
   "metadata": {
    "ExecuteTime": {
     "end_time": "2021-06-10T17:28:19.575389Z",
     "start_time": "2021-06-10T17:28:19.516694Z"
    },
    "hidden": true
   },
   "outputs": [],
   "source": [
    "df = pd.read_csv(\"../data/data.csv\")"
   ]
  },
  {
   "cell_type": "code",
   "execution_count": 3,
   "id": "e4dd0d51",
   "metadata": {
    "ExecuteTime": {
     "end_time": "2021-06-10T17:28:19.627923Z",
     "start_time": "2021-06-10T17:28:19.579507Z"
    },
    "hidden": true
   },
   "outputs": [
    {
     "data": {
      "text/html": [
       "<div>\n",
       "<style scoped>\n",
       "    .dataframe tbody tr th:only-of-type {\n",
       "        vertical-align: middle;\n",
       "    }\n",
       "\n",
       "    .dataframe tbody tr th {\n",
       "        vertical-align: top;\n",
       "    }\n",
       "\n",
       "    .dataframe thead th {\n",
       "        text-align: right;\n",
       "    }\n",
       "</style>\n",
       "<table border=\"1\" class=\"dataframe\">\n",
       "  <thead>\n",
       "    <tr style=\"text-align: right;\">\n",
       "      <th></th>\n",
       "      <th>ID</th>\n",
       "      <th>Warehouse_block</th>\n",
       "      <th>Mode_of_Shipment</th>\n",
       "      <th>Customer_care_calls</th>\n",
       "      <th>Customer_rating</th>\n",
       "      <th>Cost_of_the_Product</th>\n",
       "      <th>Prior_purchases</th>\n",
       "      <th>Product_importance</th>\n",
       "      <th>Gender</th>\n",
       "      <th>Discount_offered</th>\n",
       "      <th>Weight_in_gms</th>\n",
       "      <th>Reached.on.Time_Y.N</th>\n",
       "    </tr>\n",
       "  </thead>\n",
       "  <tbody>\n",
       "    <tr>\n",
       "      <th>0</th>\n",
       "      <td>1</td>\n",
       "      <td>D</td>\n",
       "      <td>Flight</td>\n",
       "      <td>4</td>\n",
       "      <td>2</td>\n",
       "      <td>177</td>\n",
       "      <td>3</td>\n",
       "      <td>low</td>\n",
       "      <td>F</td>\n",
       "      <td>44</td>\n",
       "      <td>1233</td>\n",
       "      <td>1</td>\n",
       "    </tr>\n",
       "    <tr>\n",
       "      <th>1</th>\n",
       "      <td>2</td>\n",
       "      <td>F</td>\n",
       "      <td>Flight</td>\n",
       "      <td>4</td>\n",
       "      <td>5</td>\n",
       "      <td>216</td>\n",
       "      <td>2</td>\n",
       "      <td>low</td>\n",
       "      <td>M</td>\n",
       "      <td>59</td>\n",
       "      <td>3088</td>\n",
       "      <td>1</td>\n",
       "    </tr>\n",
       "    <tr>\n",
       "      <th>2</th>\n",
       "      <td>3</td>\n",
       "      <td>A</td>\n",
       "      <td>Flight</td>\n",
       "      <td>2</td>\n",
       "      <td>2</td>\n",
       "      <td>183</td>\n",
       "      <td>4</td>\n",
       "      <td>low</td>\n",
       "      <td>M</td>\n",
       "      <td>48</td>\n",
       "      <td>3374</td>\n",
       "      <td>1</td>\n",
       "    </tr>\n",
       "    <tr>\n",
       "      <th>3</th>\n",
       "      <td>4</td>\n",
       "      <td>B</td>\n",
       "      <td>Flight</td>\n",
       "      <td>3</td>\n",
       "      <td>3</td>\n",
       "      <td>176</td>\n",
       "      <td>4</td>\n",
       "      <td>medium</td>\n",
       "      <td>M</td>\n",
       "      <td>10</td>\n",
       "      <td>1177</td>\n",
       "      <td>1</td>\n",
       "    </tr>\n",
       "    <tr>\n",
       "      <th>4</th>\n",
       "      <td>5</td>\n",
       "      <td>C</td>\n",
       "      <td>Flight</td>\n",
       "      <td>2</td>\n",
       "      <td>2</td>\n",
       "      <td>184</td>\n",
       "      <td>3</td>\n",
       "      <td>medium</td>\n",
       "      <td>F</td>\n",
       "      <td>46</td>\n",
       "      <td>2484</td>\n",
       "      <td>1</td>\n",
       "    </tr>\n",
       "  </tbody>\n",
       "</table>\n",
       "</div>"
      ],
      "text/plain": [
       "   ID Warehouse_block Mode_of_Shipment  Customer_care_calls  Customer_rating  \\\n",
       "0   1               D           Flight                    4                2   \n",
       "1   2               F           Flight                    4                5   \n",
       "2   3               A           Flight                    2                2   \n",
       "3   4               B           Flight                    3                3   \n",
       "4   5               C           Flight                    2                2   \n",
       "\n",
       "   Cost_of_the_Product  Prior_purchases Product_importance Gender  \\\n",
       "0                  177                3                low      F   \n",
       "1                  216                2                low      M   \n",
       "2                  183                4                low      M   \n",
       "3                  176                4             medium      M   \n",
       "4                  184                3             medium      F   \n",
       "\n",
       "   Discount_offered  Weight_in_gms  Reached.on.Time_Y.N  \n",
       "0                44           1233                    1  \n",
       "1                59           3088                    1  \n",
       "2                48           3374                    1  \n",
       "3                10           1177                    1  \n",
       "4                46           2484                    1  "
      ]
     },
     "execution_count": 3,
     "metadata": {},
     "output_type": "execute_result"
    }
   ],
   "source": [
    "df.head()"
   ]
  },
  {
   "cell_type": "markdown",
   "id": "10390451",
   "metadata": {
    "heading_collapsed": true,
    "hidden": true
   },
   "source": [
    "## 0.2 - Helper functions"
   ]
  },
  {
   "cell_type": "code",
   "execution_count": 172,
   "id": "16d466bf",
   "metadata": {
    "ExecuteTime": {
     "end_time": "2021-06-10T19:06:34.879522Z",
     "start_time": "2021-06-10T19:06:34.866602Z"
    },
    "hidden": true
   },
   "outputs": [],
   "source": [
    "#Cramer's V function:\n",
    "\n",
    "def cramers_v(a, b):\n",
    "    \n",
    "    n = confusion_matrix.sum()\n",
    "    r, k = confusion_matrix.shape\n",
    "    \n",
    "    confusion_matrix = pd.crosstab(a, b).values\n",
    "    chi2 = ss.chi2_contingency( confusion_matrix )[0]\n",
    "    chi2_corr = max( 0, chi2 - (k-1)*(r-1)/(n-1) )\n",
    "    \n",
    "    k_corr = k - (k-1)**2 / (n-1)\n",
    "    r_corr = r - (r-1)**2 / (n-1)\n",
    "    \n",
    "    return np.sqrt( (chi2 / n) / (min(k_corr - 1, r_corr - 1)))"
   ]
  },
  {
   "cell_type": "markdown",
   "id": "7b097899",
   "metadata": {
    "heading_collapsed": true
   },
   "source": [
    "# 1.0 - DATA DESCRIPTION"
   ]
  },
  {
   "cell_type": "markdown",
   "id": "81101b5e",
   "metadata": {
    "heading_collapsed": true,
    "hidden": true
   },
   "source": [
    "## 1.0.1 - Renaming columns"
   ]
  },
  {
   "cell_type": "code",
   "execution_count": 4,
   "id": "30e8d715",
   "metadata": {
    "ExecuteTime": {
     "end_time": "2021-06-10T17:28:19.639172Z",
     "start_time": "2021-06-10T17:28:19.629163Z"
    },
    "hidden": true
   },
   "outputs": [],
   "source": [
    "df1 = df.copy()"
   ]
  },
  {
   "cell_type": "code",
   "execution_count": 5,
   "id": "70dd1bbc",
   "metadata": {
    "ExecuteTime": {
     "end_time": "2021-06-10T17:28:19.654468Z",
     "start_time": "2021-06-10T17:28:19.641135Z"
    },
    "hidden": true
   },
   "outputs": [
    {
     "data": {
      "text/plain": [
       "Index(['ID', 'Warehouse_block', 'Mode_of_Shipment', 'Customer_care_calls',\n",
       "       'Customer_rating', 'Cost_of_the_Product', 'Prior_purchases',\n",
       "       'Product_importance', 'Gender', 'Discount_offered', 'Weight_in_gms',\n",
       "       'Reached.on.Time_Y.N'],\n",
       "      dtype='object')"
      ]
     },
     "execution_count": 5,
     "metadata": {},
     "output_type": "execute_result"
    }
   ],
   "source": [
    "df1.columns"
   ]
  },
  {
   "cell_type": "code",
   "execution_count": 6,
   "id": "cda552b4",
   "metadata": {
    "ExecuteTime": {
     "end_time": "2021-06-10T17:28:19.670236Z",
     "start_time": "2021-06-10T17:28:19.655096Z"
    },
    "hidden": true
   },
   "outputs": [],
   "source": [
    "columns_old = df.columns"
   ]
  },
  {
   "cell_type": "code",
   "execution_count": 7,
   "id": "2ccb14a6",
   "metadata": {
    "ExecuteTime": {
     "end_time": "2021-06-10T17:28:19.686363Z",
     "start_time": "2021-06-10T17:28:19.671075Z"
    },
    "hidden": true
   },
   "outputs": [],
   "source": [
    "#Converting the columns names to snake_case \n",
    "rename_columns = lambda x: inflection.underscore(x)\n",
    "columns_new = list(map(rename_columns, columns_old))\n",
    "\n",
    "#Renaming\n",
    "df1.columns = columns_new"
   ]
  },
  {
   "cell_type": "markdown",
   "id": "c80dfdca",
   "metadata": {
    "heading_collapsed": true,
    "hidden": true
   },
   "source": [
    "## 1.0.2 - Data Dimension"
   ]
  },
  {
   "cell_type": "code",
   "execution_count": 8,
   "id": "74491701",
   "metadata": {
    "ExecuteTime": {
     "end_time": "2021-06-10T17:28:19.702396Z",
     "start_time": "2021-06-10T17:28:19.688363Z"
    },
    "hidden": true
   },
   "outputs": [
    {
     "name": "stdout",
     "output_type": "stream",
     "text": [
      "The dataframe has 10999 lines and 12 columns\n"
     ]
    }
   ],
   "source": [
    "print( 'The dataframe has {} lines and {} columns'.format(df1.shape[0], df1.shape[1]) )"
   ]
  },
  {
   "cell_type": "markdown",
   "id": "8761f53b",
   "metadata": {
    "heading_collapsed": true,
    "hidden": true
   },
   "source": [
    "## 1.0.3 - Data Types"
   ]
  },
  {
   "cell_type": "code",
   "execution_count": 9,
   "id": "b1d906d9",
   "metadata": {
    "ExecuteTime": {
     "end_time": "2021-06-10T17:28:19.734417Z",
     "start_time": "2021-06-10T17:28:19.706367Z"
    },
    "hidden": true
   },
   "outputs": [
    {
     "name": "stdout",
     "output_type": "stream",
     "text": [
      "<class 'pandas.core.frame.DataFrame'>\n",
      "RangeIndex: 10999 entries, 0 to 10998\n",
      "Data columns (total 12 columns):\n",
      " #   Column               Non-Null Count  Dtype \n",
      "---  ------               --------------  ----- \n",
      " 0   id                   10999 non-null  int64 \n",
      " 1   warehouse_block      10999 non-null  object\n",
      " 2   mode_of_shipment     10999 non-null  object\n",
      " 3   customer_care_calls  10999 non-null  int64 \n",
      " 4   customer_rating      10999 non-null  int64 \n",
      " 5   cost_of_the_product  10999 non-null  int64 \n",
      " 6   prior_purchases      10999 non-null  int64 \n",
      " 7   product_importance   10999 non-null  object\n",
      " 8   gender               10999 non-null  object\n",
      " 9   discount_offered     10999 non-null  int64 \n",
      " 10  weight_in_gms        10999 non-null  int64 \n",
      " 11  reached.on.time_y.n  10999 non-null  int64 \n",
      "dtypes: int64(8), object(4)\n",
      "memory usage: 1.0+ MB\n"
     ]
    }
   ],
   "source": [
    "df1.info()"
   ]
  },
  {
   "cell_type": "code",
   "execution_count": 10,
   "id": "b0716bd3",
   "metadata": {
    "ExecuteTime": {
     "end_time": "2021-06-10T17:28:19.750197Z",
     "start_time": "2021-06-10T17:28:19.735257Z"
    },
    "hidden": true
   },
   "outputs": [
    {
     "data": {
      "text/plain": [
       "id                       int64\n",
       "warehouse_block         object\n",
       "mode_of_shipment        object\n",
       "customer_care_calls      int64\n",
       "customer_rating          int64\n",
       "cost_of_the_product    float64\n",
       "prior_purchases          int64\n",
       "product_importance      object\n",
       "gender                  object\n",
       "discount_offered         int64\n",
       "weight_in_gms            int64\n",
       "reached.on.time_y.n     object\n",
       "dtype: object"
      ]
     },
     "execution_count": 10,
     "metadata": {},
     "output_type": "execute_result"
    }
   ],
   "source": [
    "# Converting Dtypes \n",
    "df1['cost_of_the_product'] = df1['cost_of_the_product'].astype(float)\n",
    "df1['reached.on.time_y.n'] = df1['reached.on.time_y.n'].astype(str)\n",
    "\n",
    "# And checking again\n",
    "df1.dtypes"
   ]
  },
  {
   "cell_type": "markdown",
   "id": "551777c8",
   "metadata": {
    "heading_collapsed": true,
    "hidden": true
   },
   "source": [
    "## 1.0.4 - Checking N/A"
   ]
  },
  {
   "cell_type": "code",
   "execution_count": 11,
   "id": "3d8f077b",
   "metadata": {
    "ExecuteTime": {
     "end_time": "2021-06-10T17:28:19.766187Z",
     "start_time": "2021-06-10T17:28:19.751194Z"
    },
    "hidden": true
   },
   "outputs": [
    {
     "data": {
      "text/plain": [
       "id                     0\n",
       "warehouse_block        0\n",
       "mode_of_shipment       0\n",
       "customer_care_calls    0\n",
       "customer_rating        0\n",
       "cost_of_the_product    0\n",
       "prior_purchases        0\n",
       "product_importance     0\n",
       "gender                 0\n",
       "discount_offered       0\n",
       "weight_in_gms          0\n",
       "reached.on.time_y.n    0\n",
       "dtype: int64"
      ]
     },
     "execution_count": 11,
     "metadata": {},
     "output_type": "execute_result"
    }
   ],
   "source": [
    "df1.isna().sum()"
   ]
  },
  {
   "cell_type": "markdown",
   "id": "c7f65e0f",
   "metadata": {
    "heading_collapsed": true,
    "hidden": true
   },
   "source": [
    "## 1.1 - Descriptive statistics"
   ]
  },
  {
   "cell_type": "code",
   "execution_count": 12,
   "id": "b6ca4a24",
   "metadata": {
    "ExecuteTime": {
     "end_time": "2021-06-10T17:28:19.781339Z",
     "start_time": "2021-06-10T17:28:19.767323Z"
    },
    "hidden": true
   },
   "outputs": [],
   "source": [
    "numerical_list = ['int64', 'float64', 'int32']\n",
    "\n",
    "#Separating numerical and categorical att\n",
    "numerical_attributes = df1.select_dtypes(include = numerical_list)\n",
    "categorical_attributes = df1.select_dtypes(exclude = numerical_list)"
   ]
  },
  {
   "cell_type": "markdown",
   "id": "efcd9aa7",
   "metadata": {
    "hidden": true
   },
   "source": [
    "### 1.1.1 - Central tendency and dispersion metrics"
   ]
  },
  {
   "cell_type": "code",
   "execution_count": 13,
   "id": "a696328e",
   "metadata": {
    "ExecuteTime": {
     "end_time": "2021-06-10T17:28:19.828372Z",
     "start_time": "2021-06-10T17:28:19.782474Z"
    },
    "hidden": true
   },
   "outputs": [
    {
     "data": {
      "text/html": [
       "<div>\n",
       "<style scoped>\n",
       "    .dataframe tbody tr th:only-of-type {\n",
       "        vertical-align: middle;\n",
       "    }\n",
       "\n",
       "    .dataframe tbody tr th {\n",
       "        vertical-align: top;\n",
       "    }\n",
       "\n",
       "    .dataframe thead th {\n",
       "        text-align: right;\n",
       "    }\n",
       "</style>\n",
       "<table border=\"1\" class=\"dataframe\">\n",
       "  <thead>\n",
       "    <tr style=\"text-align: right;\">\n",
       "      <th></th>\n",
       "      <th>count</th>\n",
       "      <th>mean</th>\n",
       "      <th>std</th>\n",
       "      <th>min</th>\n",
       "      <th>25%</th>\n",
       "      <th>50%</th>\n",
       "      <th>75%</th>\n",
       "      <th>max</th>\n",
       "    </tr>\n",
       "  </thead>\n",
       "  <tbody>\n",
       "    <tr>\n",
       "      <th>id</th>\n",
       "      <td>10999.0</td>\n",
       "      <td>5500.000000</td>\n",
       "      <td>3175.282140</td>\n",
       "      <td>1.0</td>\n",
       "      <td>2750.5</td>\n",
       "      <td>5500.0</td>\n",
       "      <td>8249.5</td>\n",
       "      <td>10999.0</td>\n",
       "    </tr>\n",
       "    <tr>\n",
       "      <th>customer_care_calls</th>\n",
       "      <td>10999.0</td>\n",
       "      <td>4.054459</td>\n",
       "      <td>1.141490</td>\n",
       "      <td>2.0</td>\n",
       "      <td>3.0</td>\n",
       "      <td>4.0</td>\n",
       "      <td>5.0</td>\n",
       "      <td>7.0</td>\n",
       "    </tr>\n",
       "    <tr>\n",
       "      <th>customer_rating</th>\n",
       "      <td>10999.0</td>\n",
       "      <td>2.990545</td>\n",
       "      <td>1.413603</td>\n",
       "      <td>1.0</td>\n",
       "      <td>2.0</td>\n",
       "      <td>3.0</td>\n",
       "      <td>4.0</td>\n",
       "      <td>5.0</td>\n",
       "    </tr>\n",
       "    <tr>\n",
       "      <th>cost_of_the_product</th>\n",
       "      <td>10999.0</td>\n",
       "      <td>210.196836</td>\n",
       "      <td>48.063272</td>\n",
       "      <td>96.0</td>\n",
       "      <td>169.0</td>\n",
       "      <td>214.0</td>\n",
       "      <td>251.0</td>\n",
       "      <td>310.0</td>\n",
       "    </tr>\n",
       "    <tr>\n",
       "      <th>prior_purchases</th>\n",
       "      <td>10999.0</td>\n",
       "      <td>3.567597</td>\n",
       "      <td>1.522860</td>\n",
       "      <td>2.0</td>\n",
       "      <td>3.0</td>\n",
       "      <td>3.0</td>\n",
       "      <td>4.0</td>\n",
       "      <td>10.0</td>\n",
       "    </tr>\n",
       "    <tr>\n",
       "      <th>discount_offered</th>\n",
       "      <td>10999.0</td>\n",
       "      <td>13.373216</td>\n",
       "      <td>16.205527</td>\n",
       "      <td>1.0</td>\n",
       "      <td>4.0</td>\n",
       "      <td>7.0</td>\n",
       "      <td>10.0</td>\n",
       "      <td>65.0</td>\n",
       "    </tr>\n",
       "    <tr>\n",
       "      <th>weight_in_gms</th>\n",
       "      <td>10999.0</td>\n",
       "      <td>3634.016729</td>\n",
       "      <td>1635.377251</td>\n",
       "      <td>1001.0</td>\n",
       "      <td>1839.5</td>\n",
       "      <td>4149.0</td>\n",
       "      <td>5050.0</td>\n",
       "      <td>7846.0</td>\n",
       "    </tr>\n",
       "  </tbody>\n",
       "</table>\n",
       "</div>"
      ],
      "text/plain": [
       "                       count         mean          std     min     25%  \\\n",
       "id                   10999.0  5500.000000  3175.282140     1.0  2750.5   \n",
       "customer_care_calls  10999.0     4.054459     1.141490     2.0     3.0   \n",
       "customer_rating      10999.0     2.990545     1.413603     1.0     2.0   \n",
       "cost_of_the_product  10999.0   210.196836    48.063272    96.0   169.0   \n",
       "prior_purchases      10999.0     3.567597     1.522860     2.0     3.0   \n",
       "discount_offered     10999.0    13.373216    16.205527     1.0     4.0   \n",
       "weight_in_gms        10999.0  3634.016729  1635.377251  1001.0  1839.5   \n",
       "\n",
       "                        50%     75%      max  \n",
       "id                   5500.0  8249.5  10999.0  \n",
       "customer_care_calls     4.0     5.0      7.0  \n",
       "customer_rating         3.0     4.0      5.0  \n",
       "cost_of_the_product   214.0   251.0    310.0  \n",
       "prior_purchases         3.0     4.0     10.0  \n",
       "discount_offered        7.0    10.0     65.0  \n",
       "weight_in_gms        4149.0  5050.0   7846.0  "
      ]
     },
     "execution_count": 13,
     "metadata": {},
     "output_type": "execute_result"
    }
   ],
   "source": [
    "df1.describe().T"
   ]
  },
  {
   "cell_type": "markdown",
   "id": "19740711",
   "metadata": {
    "hidden": true
   },
   "source": [
    "### 1.1.2 - Verifying outliers"
   ]
  },
  {
   "cell_type": "code",
   "execution_count": 14,
   "id": "2ddabcca",
   "metadata": {
    "ExecuteTime": {
     "end_time": "2021-06-10T17:28:19.843571Z",
     "start_time": "2021-06-10T17:28:19.831365Z"
    },
    "hidden": true
   },
   "outputs": [
    {
     "data": {
      "text/plain": [
       "Index(['id', 'customer_care_calls', 'customer_rating', 'cost_of_the_product',\n",
       "       'prior_purchases', 'discount_offered', 'weight_in_gms'],\n",
       "      dtype='object')"
      ]
     },
     "execution_count": 14,
     "metadata": {},
     "output_type": "execute_result"
    }
   ],
   "source": [
    "numerical_attributes.columns"
   ]
  },
  {
   "cell_type": "code",
   "execution_count": 15,
   "id": "c796fbfb",
   "metadata": {
    "ExecuteTime": {
     "end_time": "2021-06-10T17:28:20.456973Z",
     "start_time": "2021-06-10T17:28:19.846324Z"
    },
    "hidden": true
   },
   "outputs": [
    {
     "data": {
      "text/plain": [
       "<AxesSubplot:title={'center':'weight_in_gms'}>"
      ]
     },
     "execution_count": 15,
     "metadata": {},
     "output_type": "execute_result"
    },
    {
     "data": {
      "image/png": "[encoded data removed]",
      "text/plain": [
       "<Figure size 1440x864 with 6 Axes>"
      ]
     },
     "metadata": {
      "needs_background": "light"
     },
     "output_type": "display_data"
    }
   ],
   "source": [
    "#Ploting the boxplot to verify if we've outliers\n",
    "plt.figure(figsize=(20,12))\n",
    "sns.set_theme(style=\"whitegrid\")\n",
    "\n",
    "plt.subplot(2,3,1)\n",
    "plt.title('customer_care_calls')\n",
    "sns.boxplot(data = numerical_attributes['customer_care_calls'])\n",
    "\n",
    "plt.subplot(2,3,2)\n",
    "plt.title('customer_rating')\n",
    "sns.boxplot(data = numerical_attributes['customer_rating'])\n",
    "\n",
    "plt.subplot(2,3,3)\n",
    "plt.title('cost_of_the_product')\n",
    "sns.boxplot(data = numerical_attributes['cost_of_the_product'])\n",
    "\n",
    "plt.subplot(2,3,4)\n",
    "plt.title('prior_purchases')\n",
    "sns.boxplot(data = numerical_attributes['prior_purchases'])\n",
    "\n",
    "plt.subplot(2,3,5)\n",
    "plt.title('discount_offered')\n",
    "sns.boxplot(data = numerical_attributes['discount_offered'])\n",
    "\n",
    "plt.subplot(2,3,6)\n",
    "plt.title('weight_in_gms')\n",
    "sns.boxplot(data = numerical_attributes['weight_in_gms'])"
   ]
  },
  {
   "cell_type": "code",
   "execution_count": 16,
   "id": "5038015c",
   "metadata": {
    "ExecuteTime": {
     "end_time": "2021-06-10T17:28:20.487919Z",
     "start_time": "2021-06-10T17:28:20.457688Z"
    },
    "hidden": true
   },
   "outputs": [
    {
     "data": {
      "text/html": [
       "<div>\n",
       "<style scoped>\n",
       "    .dataframe tbody tr th:only-of-type {\n",
       "        vertical-align: middle;\n",
       "    }\n",
       "\n",
       "    .dataframe tbody tr th {\n",
       "        vertical-align: top;\n",
       "    }\n",
       "\n",
       "    .dataframe thead th {\n",
       "        text-align: right;\n",
       "    }\n",
       "</style>\n",
       "<table border=\"1\" class=\"dataframe\">\n",
       "  <thead>\n",
       "    <tr style=\"text-align: right;\">\n",
       "      <th></th>\n",
       "      <th>index</th>\n",
       "      <th>prior_purchases</th>\n",
       "      <th>discount_offered</th>\n",
       "    </tr>\n",
       "  </thead>\n",
       "  <tbody>\n",
       "    <tr>\n",
       "      <th>0</th>\n",
       "      <td>count</td>\n",
       "      <td>10999.000000</td>\n",
       "      <td>10999.000000</td>\n",
       "    </tr>\n",
       "    <tr>\n",
       "      <th>1</th>\n",
       "      <td>mean</td>\n",
       "      <td>3.567597</td>\n",
       "      <td>13.373216</td>\n",
       "    </tr>\n",
       "    <tr>\n",
       "      <th>2</th>\n",
       "      <td>std</td>\n",
       "      <td>1.522860</td>\n",
       "      <td>16.205527</td>\n",
       "    </tr>\n",
       "    <tr>\n",
       "      <th>3</th>\n",
       "      <td>min</td>\n",
       "      <td>2.000000</td>\n",
       "      <td>1.000000</td>\n",
       "    </tr>\n",
       "    <tr>\n",
       "      <th>4</th>\n",
       "      <td>25%</td>\n",
       "      <td>3.000000</td>\n",
       "      <td>4.000000</td>\n",
       "    </tr>\n",
       "    <tr>\n",
       "      <th>5</th>\n",
       "      <td>50%</td>\n",
       "      <td>3.000000</td>\n",
       "      <td>7.000000</td>\n",
       "    </tr>\n",
       "    <tr>\n",
       "      <th>6</th>\n",
       "      <td>75%</td>\n",
       "      <td>4.000000</td>\n",
       "      <td>10.000000</td>\n",
       "    </tr>\n",
       "    <tr>\n",
       "      <th>7</th>\n",
       "      <td>max</td>\n",
       "      <td>10.000000</td>\n",
       "      <td>65.000000</td>\n",
       "    </tr>\n",
       "  </tbody>\n",
       "</table>\n",
       "</div>"
      ],
      "text/plain": [
       "   index  prior_purchases  discount_offered\n",
       "0  count     10999.000000      10999.000000\n",
       "1   mean         3.567597         13.373216\n",
       "2    std         1.522860         16.205527\n",
       "3    min         2.000000          1.000000\n",
       "4    25%         3.000000          4.000000\n",
       "5    50%         3.000000          7.000000\n",
       "6    75%         4.000000         10.000000\n",
       "7    max        10.000000         65.000000"
      ]
     },
     "execution_count": 16,
     "metadata": {},
     "output_type": "execute_result"
    }
   ],
   "source": [
    "#Outliers or not?\n",
    "\n",
    "#prior_purchases\n",
    "prior_purchases = pd.DataFrame( df1['prior_purchases'].describe() ).reset_index()\n",
    "\n",
    "#discount_offered \n",
    "discount = pd.DataFrame ( df1['discount_offered'].describe() ).reset_index()\n",
    "\n",
    "pd.merge(prior_purchases, discount)\n",
    "\n",
    "#CONCLUSION -- After analyzing both attributes, we can conclude that they aren't outliers, so, we don't need to remove they.\n"
   ]
  },
  {
   "cell_type": "markdown",
   "id": "7cc4adb4",
   "metadata": {
    "hidden": true
   },
   "source": [
    "### 1.1.3 - Categorical attributes "
   ]
  },
  {
   "cell_type": "code",
   "execution_count": 17,
   "id": "48b230ef",
   "metadata": {
    "ExecuteTime": {
     "end_time": "2021-06-10T17:28:20.503875Z",
     "start_time": "2021-06-10T17:28:20.490908Z"
    },
    "hidden": true
   },
   "outputs": [
    {
     "data": {
      "text/plain": [
       "Index(['warehouse_block', 'mode_of_shipment', 'product_importance', 'gender',\n",
       "       'reached.on.time_y.n'],\n",
       "      dtype='object')"
      ]
     },
     "execution_count": 17,
     "metadata": {},
     "output_type": "execute_result"
    }
   ],
   "source": [
    "categorical_attributes.columns"
   ]
  },
  {
   "cell_type": "code",
   "execution_count": 18,
   "id": "9cbfb44f",
   "metadata": {
    "ExecuteTime": {
     "end_time": "2021-06-10T17:28:20.551948Z",
     "start_time": "2021-06-10T17:28:20.507863Z"
    },
    "hidden": true
   },
   "outputs": [],
   "source": [
    "#warehouse_block\n",
    "warehouse_block = categorical_attributes['warehouse_block'].value_counts(normalize = True).reset_index()\n",
    "warehouse_block.columns = ['warehouse_block', 'values']\n",
    "\n",
    "#mode_of_shipment\n",
    "shipment = categorical_attributes['mode_of_shipment'].value_counts(normalize = True).reset_index()\n",
    "shipment.columns = ['shipment', 'values']\n",
    "\n",
    "#product_importance\n",
    "product_importance = categorical_attributes['product_importance'].value_counts(normalize = True).reset_index()\n",
    "product_importance.columns = ['product_importance', 'values']\n",
    "\n",
    "#gender\n",
    "gender = categorical_attributes['gender'].value_counts(normalize = True).reset_index()\n",
    "gender.columns = ['gender', 'values']\n"
   ]
  },
  {
   "cell_type": "code",
   "execution_count": 19,
   "id": "fa8a72fa",
   "metadata": {
    "ExecuteTime": {
     "end_time": "2021-06-10T17:28:20.947701Z",
     "start_time": "2021-06-10T17:28:20.552742Z"
    },
    "hidden": true
   },
   "outputs": [
    {
     "data": {
      "text/plain": [
       "<AxesSubplot:xlabel='gender', ylabel='values'>"
      ]
     },
     "execution_count": 19,
     "metadata": {},
     "output_type": "execute_result"
    },
    {
     "data": {
      "image/png": "[encoded data removed]",
      "text/plain": [
       "<Figure size 1440x864 with 4 Axes>"
      ]
     },
     "metadata": {},
     "output_type": "display_data"
    }
   ],
   "source": [
    "plt.figure(figsize = (20,12))\n",
    "\n",
    "plt.subplot(2,2,1)\n",
    "sns.barplot(x = 'warehouse_block', y = 'values', data = warehouse_block, palette = 'flare')\n",
    "\n",
    "\n",
    "plt.subplot(2,2,2)\n",
    "sns.barplot(x = 'shipment', y = 'values', data = shipment, palette = 'flare')\n",
    "\n",
    "plt.subplot(2,2,3)\n",
    "sns.barplot(x = 'product_importance', y = 'values', data = product_importance, palette = 'flare')\n",
    "\n",
    "\n",
    "plt.subplot(2,2,4)\n",
    "sns.barplot(x = 'gender', y = 'values', data = gender, palette = 'flare')"
   ]
  },
  {
   "cell_type": "markdown",
   "id": "17d68fbd",
   "metadata": {
    "heading_collapsed": true
   },
   "source": [
    "# 2.0 - FEATURE ENGINEERING"
   ]
  },
  {
   "cell_type": "code",
   "execution_count": 20,
   "id": "53e59f4c",
   "metadata": {
    "ExecuteTime": {
     "end_time": "2021-06-10T17:28:20.963750Z",
     "start_time": "2021-06-10T17:28:20.948684Z"
    },
    "hidden": true
   },
   "outputs": [],
   "source": [
    "df2 = df1.copy()"
   ]
  },
  {
   "cell_type": "code",
   "execution_count": 21,
   "id": "e0ab81e9",
   "metadata": {
    "ExecuteTime": {
     "end_time": "2021-06-10T17:28:20.995735Z",
     "start_time": "2021-06-10T17:28:20.967633Z"
    },
    "hidden": true
   },
   "outputs": [
    {
     "data": {
      "image/png": "[encoded data removed]",
      "text/plain": [
       "<IPython.core.display.Image object>"
      ]
     },
     "execution_count": 21,
     "metadata": {},
     "output_type": "execute_result"
    }
   ],
   "source": [
    "Image('../Images/mindmap.png')"
   ]
  },
  {
   "cell_type": "markdown",
   "id": "091aedd7",
   "metadata": {
    "hidden": true
   },
   "source": [
    "## 2.1 - Hypothesis creation"
   ]
  },
  {
   "cell_type": "markdown",
   "id": "37b39b48",
   "metadata": {
    "heading_collapsed": true,
    "hidden": true
   },
   "source": [
    "### 2.1.1 - Products"
   ]
  },
  {
   "cell_type": "markdown",
   "id": "145cf1f2",
   "metadata": {
    "ExecuteTime": {
     "end_time": "2021-06-01T19:09:32.198078Z",
     "start_time": "2021-06-01T19:09:32.185114Z"
    },
    "hidden": true
   },
   "source": [
    "**1.** Products with biggest discount have a highest customer rating\n",
    "\n",
    "**2.** Products with biggest weight have a highest customer rating\n",
    "\n",
    "**3.** Products with biggest price have a highest customer rating\n",
    "\n",
    "**4.** Produts from warehouse A have a highest customer rating\n",
    "\n",
    "**5.** Products with low importance have a lowest customer rating"
   ]
  },
  {
   "cell_type": "markdown",
   "id": "bf1781b8",
   "metadata": {
    "heading_collapsed": true,
    "hidden": true
   },
   "source": [
    "### 2.1.2 - Shipment"
   ]
  },
  {
   "cell_type": "markdown",
   "id": "0529f70e",
   "metadata": {
    "ExecuteTime": {
     "end_time": "2021-06-01T19:19:25.411185Z",
     "start_time": "2021-06-01T19:19:25.405226Z"
    },
    "hidden": true
   },
   "source": [
    "**1.** Products shipped from airplane have a highest customer rating \n",
    "\n",
    "**2.** Products with delivery delay have a lowest customer rating\n",
    "\n",
    "**3.** Products reached on time have a highest customer rating"
   ]
  },
  {
   "cell_type": "markdown",
   "id": "e69534cc",
   "metadata": {
    "heading_collapsed": true,
    "hidden": true
   },
   "source": [
    "### 2.1.3 - Customer"
   ]
  },
  {
   "cell_type": "markdown",
   "id": "7feab74f",
   "metadata": {
    "hidden": true
   },
   "source": [
    "**1.** Customers who call should give a lowest customer rating\n",
    "\n",
    "**2.** Male customers should give a highest customer rating\n",
    "\n",
    "**3.** Customers with prior purchases should give a highest customer rating"
   ]
  },
  {
   "cell_type": "markdown",
   "id": "4bac25e0",
   "metadata": {
    "heading_collapsed": true,
    "hidden": true
   },
   "source": [
    "## 2.2 - Feature engineering"
   ]
  },
  {
   "cell_type": "code",
   "execution_count": 22,
   "id": "1795bf84",
   "metadata": {
    "ExecuteTime": {
     "end_time": "2021-06-10T17:28:21.027555Z",
     "start_time": "2021-06-10T17:28:20.997565Z"
    },
    "hidden": true
   },
   "outputs": [],
   "source": [
    "le = preprocessing.LabelEncoder()\n",
    "oe = preprocessing.OrdinalEncoder()\n",
    "\n",
    "# Encoding\n",
    "\n",
    "#mode_of_shipment (with label encoder)\n",
    "df2['shipment_enconded'] = le.fit_transform(df2['mode_of_shipment'])\n",
    "\n",
    "#product_importance (with ordinal encoder)\n",
    "df2['product_importance_encoded'] = oe.fit_transform(df2[['product_importance']])\n",
    "\n",
    "#gender (label encoder with lambda)\n",
    "df2['gender_encoded'] = df2['gender'].apply( lambda x: 0 if x == 'F' else 1 )\n",
    "\n",
    "#warehouse_block (with label encoder)\n",
    "map = {'A' : 0, 'B' : 1, 'C' : 2, 'D' : 3, 'F' : 4}\n",
    "df2['warehouse_block_encoded'] = df2.warehouse_block.map(map) "
   ]
  },
  {
   "cell_type": "code",
   "execution_count": 23,
   "id": "2ff327a6",
   "metadata": {
    "ExecuteTime": {
     "end_time": "2021-06-10T17:28:21.058422Z",
     "start_time": "2021-06-10T17:28:21.035543Z"
    },
    "hidden": true
   },
   "outputs": [
    {
     "data": {
      "text/html": [
       "<div>\n",
       "<style scoped>\n",
       "    .dataframe tbody tr th:only-of-type {\n",
       "        vertical-align: middle;\n",
       "    }\n",
       "\n",
       "    .dataframe tbody tr th {\n",
       "        vertical-align: top;\n",
       "    }\n",
       "\n",
       "    .dataframe thead th {\n",
       "        text-align: right;\n",
       "    }\n",
       "</style>\n",
       "<table border=\"1\" class=\"dataframe\">\n",
       "  <thead>\n",
       "    <tr style=\"text-align: right;\">\n",
       "      <th></th>\n",
       "      <th>id</th>\n",
       "      <th>warehouse_block</th>\n",
       "      <th>mode_of_shipment</th>\n",
       "      <th>customer_care_calls</th>\n",
       "      <th>customer_rating</th>\n",
       "      <th>cost_of_the_product</th>\n",
       "      <th>prior_purchases</th>\n",
       "      <th>product_importance</th>\n",
       "      <th>gender</th>\n",
       "      <th>discount_offered</th>\n",
       "      <th>weight_in_gms</th>\n",
       "      <th>reached.on.time_y.n</th>\n",
       "      <th>shipment_enconded</th>\n",
       "      <th>product_importance_encoded</th>\n",
       "      <th>gender_encoded</th>\n",
       "      <th>warehouse_block_encoded</th>\n",
       "    </tr>\n",
       "  </thead>\n",
       "  <tbody>\n",
       "    <tr>\n",
       "      <th>0</th>\n",
       "      <td>1</td>\n",
       "      <td>D</td>\n",
       "      <td>Flight</td>\n",
       "      <td>4</td>\n",
       "      <td>2</td>\n",
       "      <td>177.0</td>\n",
       "      <td>3</td>\n",
       "      <td>low</td>\n",
       "      <td>F</td>\n",
       "      <td>44</td>\n",
       "      <td>1233</td>\n",
       "      <td>1</td>\n",
       "      <td>0</td>\n",
       "      <td>1.0</td>\n",
       "      <td>0</td>\n",
       "      <td>3</td>\n",
       "    </tr>\n",
       "    <tr>\n",
       "      <th>1</th>\n",
       "      <td>2</td>\n",
       "      <td>F</td>\n",
       "      <td>Flight</td>\n",
       "      <td>4</td>\n",
       "      <td>5</td>\n",
       "      <td>216.0</td>\n",
       "      <td>2</td>\n",
       "      <td>low</td>\n",
       "      <td>M</td>\n",
       "      <td>59</td>\n",
       "      <td>3088</td>\n",
       "      <td>1</td>\n",
       "      <td>0</td>\n",
       "      <td>1.0</td>\n",
       "      <td>1</td>\n",
       "      <td>4</td>\n",
       "    </tr>\n",
       "    <tr>\n",
       "      <th>2</th>\n",
       "      <td>3</td>\n",
       "      <td>A</td>\n",
       "      <td>Flight</td>\n",
       "      <td>2</td>\n",
       "      <td>2</td>\n",
       "      <td>183.0</td>\n",
       "      <td>4</td>\n",
       "      <td>low</td>\n",
       "      <td>M</td>\n",
       "      <td>48</td>\n",
       "      <td>3374</td>\n",
       "      <td>1</td>\n",
       "      <td>0</td>\n",
       "      <td>1.0</td>\n",
       "      <td>1</td>\n",
       "      <td>0</td>\n",
       "    </tr>\n",
       "    <tr>\n",
       "      <th>3</th>\n",
       "      <td>4</td>\n",
       "      <td>B</td>\n",
       "      <td>Flight</td>\n",
       "      <td>3</td>\n",
       "      <td>3</td>\n",
       "      <td>176.0</td>\n",
       "      <td>4</td>\n",
       "      <td>medium</td>\n",
       "      <td>M</td>\n",
       "      <td>10</td>\n",
       "      <td>1177</td>\n",
       "      <td>1</td>\n",
       "      <td>0</td>\n",
       "      <td>2.0</td>\n",
       "      <td>1</td>\n",
       "      <td>1</td>\n",
       "    </tr>\n",
       "    <tr>\n",
       "      <th>4</th>\n",
       "      <td>5</td>\n",
       "      <td>C</td>\n",
       "      <td>Flight</td>\n",
       "      <td>2</td>\n",
       "      <td>2</td>\n",
       "      <td>184.0</td>\n",
       "      <td>3</td>\n",
       "      <td>medium</td>\n",
       "      <td>F</td>\n",
       "      <td>46</td>\n",
       "      <td>2484</td>\n",
       "      <td>1</td>\n",
       "      <td>0</td>\n",
       "      <td>2.0</td>\n",
       "      <td>0</td>\n",
       "      <td>2</td>\n",
       "    </tr>\n",
       "  </tbody>\n",
       "</table>\n",
       "</div>"
      ],
      "text/plain": [
       "   id warehouse_block mode_of_shipment  customer_care_calls  customer_rating  \\\n",
       "0   1               D           Flight                    4                2   \n",
       "1   2               F           Flight                    4                5   \n",
       "2   3               A           Flight                    2                2   \n",
       "3   4               B           Flight                    3                3   \n",
       "4   5               C           Flight                    2                2   \n",
       "\n",
       "   cost_of_the_product  prior_purchases product_importance gender  \\\n",
       "0                177.0                3                low      F   \n",
       "1                216.0                2                low      M   \n",
       "2                183.0                4                low      M   \n",
       "3                176.0                4             medium      M   \n",
       "4                184.0                3             medium      F   \n",
       "\n",
       "   discount_offered  weight_in_gms reached.on.time_y.n  shipment_enconded  \\\n",
       "0                44           1233                   1                  0   \n",
       "1                59           3088                   1                  0   \n",
       "2                48           3374                   1                  0   \n",
       "3                10           1177                   1                  0   \n",
       "4                46           2484                   1                  0   \n",
       "\n",
       "   product_importance_encoded  gender_encoded  warehouse_block_encoded  \n",
       "0                         1.0               0                        3  \n",
       "1                         1.0               1                        4  \n",
       "2                         1.0               1                        0  \n",
       "3                         2.0               1                        1  \n",
       "4                         2.0               0                        2  "
      ]
     },
     "execution_count": 23,
     "metadata": {},
     "output_type": "execute_result"
    }
   ],
   "source": [
    "df2.head()"
   ]
  },
  {
   "cell_type": "markdown",
   "id": "eedff327",
   "metadata": {},
   "source": [
    "# 3.0 - EXPLORATORY DATA ANALYSIS"
   ]
  },
  {
   "cell_type": "code",
   "execution_count": 24,
   "id": "6aca2e39",
   "metadata": {
    "ExecuteTime": {
     "end_time": "2021-06-10T17:28:21.074471Z",
     "start_time": "2021-06-10T17:28:21.060386Z"
    }
   },
   "outputs": [],
   "source": [
    "df3 = df2.copy()"
   ]
  },
  {
   "cell_type": "markdown",
   "id": "0d9c9903",
   "metadata": {},
   "source": [
    "## 3.1 - Univariated analysis"
   ]
  },
  {
   "cell_type": "markdown",
   "id": "3dcbab18",
   "metadata": {
    "heading_collapsed": true
   },
   "source": [
    "### 3.1.1 - Response variable"
   ]
  },
  {
   "cell_type": "code",
   "execution_count": 25,
   "id": "45b11ec0",
   "metadata": {
    "ExecuteTime": {
     "end_time": "2021-06-10T17:28:21.090564Z",
     "start_time": "2021-06-10T17:28:21.076384Z"
    },
    "hidden": true
   },
   "outputs": [
    {
     "data": {
      "text/plain": [
       "3    20.36\n",
       "1    20.32\n",
       "4    19.90\n",
       "5    19.74\n",
       "2    19.68\n",
       "Name: customer_rating, dtype: float64"
      ]
     },
     "execution_count": 25,
     "metadata": {},
     "output_type": "execute_result"
    }
   ],
   "source": [
    "(df3['customer_rating'].value_counts(normalize = True, ascending = False) * 100).round(2)"
   ]
  },
  {
   "cell_type": "code",
   "execution_count": 26,
   "id": "87af340b",
   "metadata": {
    "ExecuteTime": {
     "end_time": "2021-06-10T17:28:21.341303Z",
     "start_time": "2021-06-10T17:28:21.092300Z"
    },
    "hidden": true
   },
   "outputs": [
    {
     "data": {
      "text/plain": [
       "<seaborn.axisgrid.FacetGrid at 0x1d6a34afdf0>"
      ]
     },
     "execution_count": 26,
     "metadata": {},
     "output_type": "execute_result"
    },
    {
     "data": {
      "image/png": "[encoded data removed]",
      "text/plain": [
       "<Figure size 360x360 with 1 Axes>"
      ]
     },
     "metadata": {},
     "output_type": "display_data"
    }
   ],
   "source": [
    "sns.displot(df3['customer_rating'])"
   ]
  },
  {
   "cell_type": "markdown",
   "id": "b291ce0e",
   "metadata": {
    "heading_collapsed": true
   },
   "source": [
    "### 3.1.2 - Numerical variables"
   ]
  },
  {
   "cell_type": "code",
   "execution_count": 27,
   "id": "16a6f3a2",
   "metadata": {
    "ExecuteTime": {
     "end_time": "2021-06-10T17:28:22.542980Z",
     "start_time": "2021-06-10T17:28:21.342080Z"
    },
    "hidden": true
   },
   "outputs": [
    {
     "data": {
      "image/png": "[encoded data removed]",
      "text/plain": [
       "<Figure size 1440x1296 with 9 Axes>"
      ]
     },
     "metadata": {},
     "output_type": "display_data"
    }
   ],
   "source": [
    "numerical_attributes.hist(figsize=(20, 18));\n"
   ]
  },
  {
   "cell_type": "markdown",
   "id": "8b153f72",
   "metadata": {
    "heading_collapsed": true
   },
   "source": [
    "### 3.1.3 - Categorical variables"
   ]
  },
  {
   "cell_type": "code",
   "execution_count": 28,
   "id": "0331c9d3",
   "metadata": {
    "ExecuteTime": {
     "end_time": "2021-06-10T17:28:22.936979Z",
     "start_time": "2021-06-10T17:28:22.545925Z"
    },
    "hidden": true
   },
   "outputs": [
    {
     "name": "stderr",
     "output_type": "stream",
     "text": [
      "C:\\Users\\lvasq\\anaconda3\\lib\\site-packages\\seaborn\\_decorators.py:36: FutureWarning: Pass the following variable as a keyword arg: x. From version 0.12, the only valid positional argument will be `data`, and passing other arguments without an explicit keyword will result in an error or misinterpretation.\n",
      "  warnings.warn(\n",
      "C:\\Users\\lvasq\\anaconda3\\lib\\site-packages\\seaborn\\_decorators.py:36: FutureWarning: Pass the following variable as a keyword arg: x. From version 0.12, the only valid positional argument will be `data`, and passing other arguments without an explicit keyword will result in an error or misinterpretation.\n",
      "  warnings.warn(\n",
      "C:\\Users\\lvasq\\anaconda3\\lib\\site-packages\\seaborn\\_decorators.py:36: FutureWarning: Pass the following variable as a keyword arg: x. From version 0.12, the only valid positional argument will be `data`, and passing other arguments without an explicit keyword will result in an error or misinterpretation.\n",
      "  warnings.warn(\n",
      "C:\\Users\\lvasq\\anaconda3\\lib\\site-packages\\seaborn\\_decorators.py:36: FutureWarning: Pass the following variable as a keyword arg: x. From version 0.12, the only valid positional argument will be `data`, and passing other arguments without an explicit keyword will result in an error or misinterpretation.\n",
      "  warnings.warn(\n"
     ]
    },
    {
     "data": {
      "text/plain": [
       "<AxesSubplot:xlabel='gender', ylabel='count'>"
      ]
     },
     "execution_count": 28,
     "metadata": {},
     "output_type": "execute_result"
    },
    {
     "data": {
      "image/png": "[encoded data removed]",
      "text/plain": [
       "<Figure size 1296x720 with 4 Axes>"
      ]
     },
     "metadata": {},
     "output_type": "display_data"
    }
   ],
   "source": [
    "plt.figure(figsize=(18,10))\n",
    "\n",
    "plt.subplot(2,2,1)\n",
    "sns.countplot(df3['warehouse_block'])\n",
    "\n",
    "plt.subplot(2,2,2)\n",
    "sns.countplot(df3['mode_of_shipment'])\n",
    "\n",
    "plt.subplot(2,2,3)\n",
    "sns.countplot(df3['product_importance'])\n",
    "\n",
    "plt.subplot(2,2,4)\n",
    "sns.countplot(df3['gender'])"
   ]
  },
  {
   "cell_type": "markdown",
   "id": "8860dcd3",
   "metadata": {
    "heading_collapsed": true
   },
   "source": [
    "## 3.2 - Bivariate analysis"
   ]
  },
  {
   "cell_type": "markdown",
   "id": "2055d838",
   "metadata": {
    "heading_collapsed": true,
    "hidden": true
   },
   "source": [
    "### H1. Products with biggest discount have a highest customer rating\n",
    "**False**\n"
   ]
  },
  {
   "cell_type": "code",
   "execution_count": 29,
   "id": "c3a19ff1",
   "metadata": {
    "ExecuteTime": {
     "end_time": "2021-06-10T17:28:23.111169Z",
     "start_time": "2021-06-10T17:28:22.938913Z"
    },
    "hidden": true
   },
   "outputs": [
    {
     "data": {
      "image/png": "[encoded data removed]",
      "text/plain": [
       "<Figure size 1296x720 with 1 Axes>"
      ]
     },
     "metadata": {},
     "output_type": "display_data"
    }
   ],
   "source": [
    "plt.figure(figsize=(18,10))\n",
    "h = df3[['discount_offered','customer_rating']].groupby('customer_rating').mean().reset_index()\n",
    "sns.barplot(x = 'discount_offered', y = 'customer_rating', data = h);"
   ]
  },
  {
   "cell_type": "markdown",
   "id": "4b701751",
   "metadata": {
    "heading_collapsed": true,
    "hidden": true
   },
   "source": [
    "### H2. Products with biggest weight have a highest customer rating\n",
    "**False**\n"
   ]
  },
  {
   "cell_type": "code",
   "execution_count": 30,
   "id": "621b40af",
   "metadata": {
    "ExecuteTime": {
     "end_time": "2021-06-10T17:28:23.252538Z",
     "start_time": "2021-06-10T17:28:23.111771Z"
    },
    "hidden": true
   },
   "outputs": [
    {
     "data": {
      "image/png": "[encoded data removed]",
      "text/plain": [
       "<Figure size 1296x720 with 1 Axes>"
      ]
     },
     "metadata": {},
     "output_type": "display_data"
    }
   ],
   "source": [
    "plt.figure(figsize=(18,10))\n",
    "h = df3[['weight_in_gms', 'customer_rating']].groupby('customer_rating').mean().reset_index()\n",
    "sns.barplot(x = 'weight_in_gms', y = 'customer_rating', data = h);"
   ]
  },
  {
   "cell_type": "markdown",
   "id": "ea868cdc",
   "metadata": {
    "heading_collapsed": true,
    "hidden": true
   },
   "source": [
    "### H3. Products with biggest price have a highest customer rating\n",
    "**True**"
   ]
  },
  {
   "cell_type": "code",
   "execution_count": 31,
   "id": "2a310f9c",
   "metadata": {
    "ExecuteTime": {
     "end_time": "2021-06-10T17:28:23.395143Z",
     "start_time": "2021-06-10T17:28:23.253392Z"
    },
    "hidden": true
   },
   "outputs": [
    {
     "data": {
      "image/png": "[encoded data removed]",
      "text/plain": [
       "<Figure size 1296x720 with 1 Axes>"
      ]
     },
     "metadata": {},
     "output_type": "display_data"
    }
   ],
   "source": [
    "h = df3[['cost_of_the_product', 'customer_rating']].groupby('customer_rating').mean().reset_index()\n",
    "plt.figure(figsize=(18,10))\n",
    "sns.barplot(x = 'cost_of_the_product', y = 'customer_rating', data = h);"
   ]
  },
  {
   "cell_type": "markdown",
   "id": "3b14fbfa",
   "metadata": {
    "heading_collapsed": true,
    "hidden": true
   },
   "source": [
    "### H4. Produts from warehouse A have a highest customer rating\n",
    "**False**"
   ]
  },
  {
   "cell_type": "code",
   "execution_count": 32,
   "id": "1a3190a4",
   "metadata": {
    "ExecuteTime": {
     "end_time": "2021-06-10T17:28:23.442625Z",
     "start_time": "2021-06-10T17:28:23.397007Z"
    },
    "hidden": true
   },
   "outputs": [
    {
     "data": {
      "text/html": [
       "<div>\n",
       "<style scoped>\n",
       "    .dataframe tbody tr th:only-of-type {\n",
       "        vertical-align: middle;\n",
       "    }\n",
       "\n",
       "    .dataframe tbody tr th {\n",
       "        vertical-align: top;\n",
       "    }\n",
       "\n",
       "    .dataframe thead th {\n",
       "        text-align: right;\n",
       "    }\n",
       "</style>\n",
       "<table border=\"1\" class=\"dataframe\">\n",
       "  <thead>\n",
       "    <tr style=\"text-align: right;\">\n",
       "      <th>customer_rating</th>\n",
       "      <th>1</th>\n",
       "      <th>2</th>\n",
       "      <th>3</th>\n",
       "      <th>4</th>\n",
       "      <th>5</th>\n",
       "    </tr>\n",
       "    <tr>\n",
       "      <th>warehouse_block</th>\n",
       "      <th></th>\n",
       "      <th></th>\n",
       "      <th></th>\n",
       "      <th></th>\n",
       "      <th></th>\n",
       "    </tr>\n",
       "  </thead>\n",
       "  <tbody>\n",
       "    <tr>\n",
       "      <th>A</th>\n",
       "      <td>394</td>\n",
       "      <td>376</td>\n",
       "      <td>345</td>\n",
       "      <td>350</td>\n",
       "      <td>368</td>\n",
       "    </tr>\n",
       "    <tr>\n",
       "      <th>B</th>\n",
       "      <td>371</td>\n",
       "      <td>376</td>\n",
       "      <td>371</td>\n",
       "      <td>348</td>\n",
       "      <td>367</td>\n",
       "    </tr>\n",
       "    <tr>\n",
       "      <th>C</th>\n",
       "      <td>364</td>\n",
       "      <td>362</td>\n",
       "      <td>383</td>\n",
       "      <td>369</td>\n",
       "      <td>355</td>\n",
       "    </tr>\n",
       "    <tr>\n",
       "      <th>D</th>\n",
       "      <td>364</td>\n",
       "      <td>340</td>\n",
       "      <td>390</td>\n",
       "      <td>379</td>\n",
       "      <td>361</td>\n",
       "    </tr>\n",
       "    <tr>\n",
       "      <th>F</th>\n",
       "      <td>742</td>\n",
       "      <td>711</td>\n",
       "      <td>750</td>\n",
       "      <td>743</td>\n",
       "      <td>720</td>\n",
       "    </tr>\n",
       "  </tbody>\n",
       "</table>\n",
       "</div>"
      ],
      "text/plain": [
       "customer_rating    1    2    3    4    5\n",
       "warehouse_block                         \n",
       "A                394  376  345  350  368\n",
       "B                371  376  371  348  367\n",
       "C                364  362  383  369  355\n",
       "D                364  340  390  379  361\n",
       "F                742  711  750  743  720"
      ]
     },
     "execution_count": 32,
     "metadata": {},
     "output_type": "execute_result"
    }
   ],
   "source": [
    "pd.crosstab(df3['warehouse_block'], df3['customer_rating'])"
   ]
  },
  {
   "cell_type": "markdown",
   "id": "df3cedac",
   "metadata": {
    "heading_collapsed": true,
    "hidden": true
   },
   "source": [
    "### H5 - Products with low importance have a lowest customer rating\n",
    "**True**"
   ]
  },
  {
   "cell_type": "code",
   "execution_count": 33,
   "id": "de07a0b6",
   "metadata": {
    "ExecuteTime": {
     "end_time": "2021-06-10T17:28:23.473854Z",
     "start_time": "2021-06-10T17:28:23.444878Z"
    },
    "hidden": true
   },
   "outputs": [
    {
     "data": {
      "text/html": [
       "<div>\n",
       "<style scoped>\n",
       "    .dataframe tbody tr th:only-of-type {\n",
       "        vertical-align: middle;\n",
       "    }\n",
       "\n",
       "    .dataframe tbody tr th {\n",
       "        vertical-align: top;\n",
       "    }\n",
       "\n",
       "    .dataframe thead th {\n",
       "        text-align: right;\n",
       "    }\n",
       "</style>\n",
       "<table border=\"1\" class=\"dataframe\">\n",
       "  <thead>\n",
       "    <tr style=\"text-align: right;\">\n",
       "      <th>customer_rating</th>\n",
       "      <th>1</th>\n",
       "      <th>2</th>\n",
       "      <th>3</th>\n",
       "      <th>4</th>\n",
       "      <th>5</th>\n",
       "    </tr>\n",
       "    <tr>\n",
       "      <th>product_importance</th>\n",
       "      <th></th>\n",
       "      <th></th>\n",
       "      <th></th>\n",
       "      <th></th>\n",
       "      <th></th>\n",
       "    </tr>\n",
       "  </thead>\n",
       "  <tbody>\n",
       "    <tr>\n",
       "      <th>high</th>\n",
       "      <td>186</td>\n",
       "      <td>199</td>\n",
       "      <td>184</td>\n",
       "      <td>193</td>\n",
       "      <td>186</td>\n",
       "    </tr>\n",
       "    <tr>\n",
       "      <th>low</th>\n",
       "      <td>1117</td>\n",
       "      <td>1015</td>\n",
       "      <td>1054</td>\n",
       "      <td>1060</td>\n",
       "      <td>1051</td>\n",
       "    </tr>\n",
       "    <tr>\n",
       "      <th>medium</th>\n",
       "      <td>932</td>\n",
       "      <td>951</td>\n",
       "      <td>1001</td>\n",
       "      <td>936</td>\n",
       "      <td>934</td>\n",
       "    </tr>\n",
       "  </tbody>\n",
       "</table>\n",
       "</div>"
      ],
      "text/plain": [
       "customer_rating        1     2     3     4     5\n",
       "product_importance                              \n",
       "high                 186   199   184   193   186\n",
       "low                 1117  1015  1054  1060  1051\n",
       "medium               932   951  1001   936   934"
      ]
     },
     "execution_count": 33,
     "metadata": {},
     "output_type": "execute_result"
    }
   ],
   "source": [
    "pd.crosstab(df3['product_importance'], df3['customer_rating'])"
   ]
  },
  {
   "cell_type": "markdown",
   "id": "6857e8ab",
   "metadata": {
    "heading_collapsed": true,
    "hidden": true
   },
   "source": [
    "### H6. Products shipped from airplane have a highest customer rating \n",
    "**False**"
   ]
  },
  {
   "cell_type": "code",
   "execution_count": 34,
   "id": "30f1abe2",
   "metadata": {
    "ExecuteTime": {
     "end_time": "2021-06-10T17:28:23.505922Z",
     "start_time": "2021-06-10T17:28:23.474800Z"
    },
    "hidden": true
   },
   "outputs": [
    {
     "data": {
      "text/html": [
       "<div>\n",
       "<style scoped>\n",
       "    .dataframe tbody tr th:only-of-type {\n",
       "        vertical-align: middle;\n",
       "    }\n",
       "\n",
       "    .dataframe tbody tr th {\n",
       "        vertical-align: top;\n",
       "    }\n",
       "\n",
       "    .dataframe thead th {\n",
       "        text-align: right;\n",
       "    }\n",
       "</style>\n",
       "<table border=\"1\" class=\"dataframe\">\n",
       "  <thead>\n",
       "    <tr style=\"text-align: right;\">\n",
       "      <th>customer_rating</th>\n",
       "      <th>1</th>\n",
       "      <th>2</th>\n",
       "      <th>3</th>\n",
       "      <th>4</th>\n",
       "      <th>5</th>\n",
       "    </tr>\n",
       "    <tr>\n",
       "      <th>mode_of_shipment</th>\n",
       "      <th></th>\n",
       "      <th></th>\n",
       "      <th></th>\n",
       "      <th></th>\n",
       "      <th></th>\n",
       "    </tr>\n",
       "  </thead>\n",
       "  <tbody>\n",
       "    <tr>\n",
       "      <th>Flight</th>\n",
       "      <td>369</td>\n",
       "      <td>362</td>\n",
       "      <td>330</td>\n",
       "      <td>363</td>\n",
       "      <td>353</td>\n",
       "    </tr>\n",
       "    <tr>\n",
       "      <th>Road</th>\n",
       "      <td>361</td>\n",
       "      <td>347</td>\n",
       "      <td>343</td>\n",
       "      <td>357</td>\n",
       "      <td>352</td>\n",
       "    </tr>\n",
       "    <tr>\n",
       "      <th>Ship</th>\n",
       "      <td>1505</td>\n",
       "      <td>1456</td>\n",
       "      <td>1566</td>\n",
       "      <td>1469</td>\n",
       "      <td>1466</td>\n",
       "    </tr>\n",
       "  </tbody>\n",
       "</table>\n",
       "</div>"
      ],
      "text/plain": [
       "customer_rating      1     2     3     4     5\n",
       "mode_of_shipment                              \n",
       "Flight             369   362   330   363   353\n",
       "Road               361   347   343   357   352\n",
       "Ship              1505  1456  1566  1469  1466"
      ]
     },
     "execution_count": 34,
     "metadata": {},
     "output_type": "execute_result"
    },
    {
     "data": {
      "text/plain": [
       "<Figure size 1296x720 with 0 Axes>"
      ]
     },
     "metadata": {},
     "output_type": "display_data"
    }
   ],
   "source": [
    "plt.figure(figsize=(18,10))\n",
    "pd.crosstab(df3['mode_of_shipment'], df3['customer_rating'])"
   ]
  },
  {
   "cell_type": "markdown",
   "id": "8ff9f526",
   "metadata": {
    "heading_collapsed": true,
    "hidden": true
   },
   "source": [
    "### H7. Products with delivery delay have a lowest customer rating\n",
    "**True**"
   ]
  },
  {
   "cell_type": "code",
   "execution_count": 35,
   "id": "ca469b25",
   "metadata": {
    "ExecuteTime": {
     "end_time": "2021-06-10T17:28:23.553630Z",
     "start_time": "2021-06-10T17:28:23.508712Z"
    },
    "hidden": true
   },
   "outputs": [
    {
     "data": {
      "text/html": [
       "<div>\n",
       "<style scoped>\n",
       "    .dataframe tbody tr th:only-of-type {\n",
       "        vertical-align: middle;\n",
       "    }\n",
       "\n",
       "    .dataframe tbody tr th {\n",
       "        vertical-align: top;\n",
       "    }\n",
       "\n",
       "    .dataframe thead th {\n",
       "        text-align: right;\n",
       "    }\n",
       "</style>\n",
       "<table border=\"1\" class=\"dataframe\">\n",
       "  <thead>\n",
       "    <tr style=\"text-align: right;\">\n",
       "      <th>customer_rating</th>\n",
       "      <th>1</th>\n",
       "      <th>2</th>\n",
       "      <th>3</th>\n",
       "      <th>4</th>\n",
       "      <th>5</th>\n",
       "    </tr>\n",
       "    <tr>\n",
       "      <th>reached.on.time_y.n</th>\n",
       "      <th></th>\n",
       "      <th></th>\n",
       "      <th></th>\n",
       "      <th></th>\n",
       "      <th></th>\n",
       "    </tr>\n",
       "  </thead>\n",
       "  <tbody>\n",
       "    <tr>\n",
       "      <th>0</th>\n",
       "      <td>922</td>\n",
       "      <td>892</td>\n",
       "      <td>882</td>\n",
       "      <td>886</td>\n",
       "      <td>854</td>\n",
       "    </tr>\n",
       "    <tr>\n",
       "      <th>1</th>\n",
       "      <td>1313</td>\n",
       "      <td>1273</td>\n",
       "      <td>1357</td>\n",
       "      <td>1303</td>\n",
       "      <td>1317</td>\n",
       "    </tr>\n",
       "  </tbody>\n",
       "</table>\n",
       "</div>"
      ],
      "text/plain": [
       "customer_rating         1     2     3     4     5\n",
       "reached.on.time_y.n                              \n",
       "0                     922   892   882   886   854\n",
       "1                    1313  1273  1357  1303  1317"
      ]
     },
     "execution_count": 35,
     "metadata": {},
     "output_type": "execute_result"
    }
   ],
   "source": [
    "# 1 = delayed and 0 = reached on time.\n",
    "pd.crosstab(df3['reached.on.time_y.n'], df3['customer_rating'])"
   ]
  },
  {
   "cell_type": "code",
   "execution_count": 36,
   "id": "d2b26257",
   "metadata": {
    "ExecuteTime": {
     "end_time": "2021-06-10T17:28:23.585715Z",
     "start_time": "2021-06-10T17:28:23.554626Z"
    },
    "hidden": true
   },
   "outputs": [
    {
     "data": {
      "text/html": [
       "<div>\n",
       "<style scoped>\n",
       "    .dataframe tbody tr th:only-of-type {\n",
       "        vertical-align: middle;\n",
       "    }\n",
       "\n",
       "    .dataframe tbody tr th {\n",
       "        vertical-align: top;\n",
       "    }\n",
       "\n",
       "    .dataframe thead th {\n",
       "        text-align: right;\n",
       "    }\n",
       "</style>\n",
       "<table border=\"1\" class=\"dataframe\">\n",
       "  <thead>\n",
       "    <tr style=\"text-align: right;\">\n",
       "      <th>customer_rating</th>\n",
       "      <th>1</th>\n",
       "      <th>2</th>\n",
       "      <th>3</th>\n",
       "      <th>4</th>\n",
       "      <th>5</th>\n",
       "    </tr>\n",
       "    <tr>\n",
       "      <th>customer_care_calls</th>\n",
       "      <th></th>\n",
       "      <th></th>\n",
       "      <th></th>\n",
       "      <th></th>\n",
       "      <th></th>\n",
       "    </tr>\n",
       "  </thead>\n",
       "  <tbody>\n",
       "    <tr>\n",
       "      <th>2</th>\n",
       "      <td>130</td>\n",
       "      <td>124</td>\n",
       "      <td>125</td>\n",
       "      <td>123</td>\n",
       "      <td>136</td>\n",
       "    </tr>\n",
       "    <tr>\n",
       "      <th>3</th>\n",
       "      <td>683</td>\n",
       "      <td>623</td>\n",
       "      <td>656</td>\n",
       "      <td>650</td>\n",
       "      <td>605</td>\n",
       "    </tr>\n",
       "    <tr>\n",
       "      <th>4</th>\n",
       "      <td>691</td>\n",
       "      <td>717</td>\n",
       "      <td>744</td>\n",
       "      <td>718</td>\n",
       "      <td>687</td>\n",
       "    </tr>\n",
       "    <tr>\n",
       "      <th>5</th>\n",
       "      <td>491</td>\n",
       "      <td>471</td>\n",
       "      <td>446</td>\n",
       "      <td>450</td>\n",
       "      <td>470</td>\n",
       "    </tr>\n",
       "    <tr>\n",
       "      <th>6</th>\n",
       "      <td>187</td>\n",
       "      <td>184</td>\n",
       "      <td>214</td>\n",
       "      <td>213</td>\n",
       "      <td>215</td>\n",
       "    </tr>\n",
       "    <tr>\n",
       "      <th>7</th>\n",
       "      <td>53</td>\n",
       "      <td>46</td>\n",
       "      <td>54</td>\n",
       "      <td>35</td>\n",
       "      <td>58</td>\n",
       "    </tr>\n",
       "  </tbody>\n",
       "</table>\n",
       "</div>"
      ],
      "text/plain": [
       "customer_rating        1    2    3    4    5\n",
       "customer_care_calls                         \n",
       "2                    130  124  125  123  136\n",
       "3                    683  623  656  650  605\n",
       "4                    691  717  744  718  687\n",
       "5                    491  471  446  450  470\n",
       "6                    187  184  214  213  215\n",
       "7                     53   46   54   35   58"
      ]
     },
     "execution_count": 36,
     "metadata": {},
     "output_type": "execute_result"
    }
   ],
   "source": [
    "pd.crosstab(df3['customer_care_calls'], df3['customer_rating'])"
   ]
  },
  {
   "cell_type": "markdown",
   "id": "4dac5d9a",
   "metadata": {
    "ExecuteTime": {
     "end_time": "2021-06-09T20:09:49.977026Z",
     "start_time": "2021-06-09T20:09:49.973085Z"
    },
    "heading_collapsed": true,
    "hidden": true
   },
   "source": [
    "### H8. Male customers should give a highest customer rating\n",
    "**False**"
   ]
  },
  {
   "cell_type": "code",
   "execution_count": 37,
   "id": "93de87e9",
   "metadata": {
    "ExecuteTime": {
     "end_time": "2021-06-10T17:28:23.617458Z",
     "start_time": "2021-06-10T17:28:23.588655Z"
    },
    "hidden": true
   },
   "outputs": [
    {
     "data": {
      "text/html": [
       "<div>\n",
       "<style scoped>\n",
       "    .dataframe tbody tr th:only-of-type {\n",
       "        vertical-align: middle;\n",
       "    }\n",
       "\n",
       "    .dataframe tbody tr th {\n",
       "        vertical-align: top;\n",
       "    }\n",
       "\n",
       "    .dataframe thead th {\n",
       "        text-align: right;\n",
       "    }\n",
       "</style>\n",
       "<table border=\"1\" class=\"dataframe\">\n",
       "  <thead>\n",
       "    <tr style=\"text-align: right;\">\n",
       "      <th>customer_rating</th>\n",
       "      <th>1</th>\n",
       "      <th>2</th>\n",
       "      <th>3</th>\n",
       "      <th>4</th>\n",
       "      <th>5</th>\n",
       "    </tr>\n",
       "    <tr>\n",
       "      <th>gender</th>\n",
       "      <th></th>\n",
       "      <th></th>\n",
       "      <th></th>\n",
       "      <th></th>\n",
       "      <th></th>\n",
       "    </tr>\n",
       "  </thead>\n",
       "  <tbody>\n",
       "    <tr>\n",
       "      <th>F</th>\n",
       "      <td>1149</td>\n",
       "      <td>1062</td>\n",
       "      <td>1143</td>\n",
       "      <td>1096</td>\n",
       "      <td>1095</td>\n",
       "    </tr>\n",
       "    <tr>\n",
       "      <th>M</th>\n",
       "      <td>1086</td>\n",
       "      <td>1103</td>\n",
       "      <td>1096</td>\n",
       "      <td>1093</td>\n",
       "      <td>1076</td>\n",
       "    </tr>\n",
       "  </tbody>\n",
       "</table>\n",
       "</div>"
      ],
      "text/plain": [
       "customer_rating     1     2     3     4     5\n",
       "gender                                       \n",
       "F                1149  1062  1143  1096  1095\n",
       "M                1086  1103  1096  1093  1076"
      ]
     },
     "execution_count": 37,
     "metadata": {},
     "output_type": "execute_result"
    }
   ],
   "source": [
    "pd.crosstab(df3['gender'], df3['customer_rating'])"
   ]
  },
  {
   "cell_type": "markdown",
   "id": "2405a96f",
   "metadata": {
    "ExecuteTime": {
     "end_time": "2021-06-09T20:09:36.828593Z",
     "start_time": "2021-06-09T20:09:36.820654Z"
    },
    "heading_collapsed": true,
    "hidden": true
   },
   "source": [
    "### H9. Customers with more prior purchases should give a highest customer rating\n",
    "**True**"
   ]
  },
  {
   "cell_type": "code",
   "execution_count": 38,
   "id": "869d0d79",
   "metadata": {
    "ExecuteTime": {
     "end_time": "2021-06-10T17:28:23.870004Z",
     "start_time": "2021-06-10T17:28:23.618416Z"
    },
    "hidden": true
   },
   "outputs": [
    {
     "data": {
      "text/plain": [
       "<AxesSubplot:xlabel='prior_purchases', ylabel='customer_rating'>"
      ]
     },
     "execution_count": 38,
     "metadata": {},
     "output_type": "execute_result"
    },
    {
     "data": {
      "image/png": "[encoded data removed]",
      "text/plain": [
       "<Figure size 1296x720 with 1 Axes>"
      ]
     },
     "metadata": {},
     "output_type": "display_data"
    }
   ],
   "source": [
    "h = df3[['prior_purchases', 'customer_rating']].groupby('customer_rating').mean().reset_index()\n",
    "plt.figure(figsize=(18,10))\n",
    "sns.barplot(x = 'prior_purchases', y = 'customer_rating', data = h)"
   ]
  },
  {
   "cell_type": "markdown",
   "id": "d847de8b",
   "metadata": {},
   "source": [
    "## 3.3 - Multivariate analysis"
   ]
  },
  {
   "cell_type": "markdown",
   "id": "280c0e04",
   "metadata": {
    "heading_collapsed": true
   },
   "source": [
    "### 3.3.1 - Numerical attributes"
   ]
  },
  {
   "cell_type": "code",
   "execution_count": 43,
   "id": "6cdb1bb7",
   "metadata": {
    "ExecuteTime": {
     "end_time": "2021-06-10T17:30:15.289457Z",
     "start_time": "2021-06-10T17:30:14.784261Z"
    },
    "hidden": true
   },
   "outputs": [
    {
     "data": {
      "image/png": "[encoded data removed]",
      "text/plain": [
       "<Figure size 1296x720 with 2 Axes>"
      ]
     },
     "metadata": {},
     "output_type": "display_data"
    }
   ],
   "source": [
    "corr = numerical_attributes.corr(method = 'pearson')\n",
    "plt.figure(figsize=(18,10))\n",
    "sns.heatmap(data = corr, annot = True);"
   ]
  },
  {
   "cell_type": "markdown",
   "id": "35199987",
   "metadata": {},
   "source": [
    "### 3.3.2 - Categorical attributes"
   ]
  },
  {
   "cell_type": "code",
   "execution_count": 155,
   "id": "e7f85e30",
   "metadata": {
    "ExecuteTime": {
     "end_time": "2021-06-10T18:54:41.081726Z",
     "start_time": "2021-06-10T18:54:40.879922Z"
    }
   },
   "outputs": [],
   "source": [
    "a1 = cramer_v(df3['warehouse_block'], df3['warehouse_block'])\n",
    "a2 = cramer_v(df3['warehouse_block'], df3['mode_of_shipment'])\n",
    "a3 = cramer_v(df3['warehouse_block'], df3['product_importance'])\n",
    "a4 = cramer_v(df3['warehouse_block'], df3['gender'])\n",
    "a5 = cramer_v(df3['warehouse_block'], df3['reached.on.time_y.n'])\n",
    "\n",
    "a6 = cramer_v(df3['mode_of_shipment'], df3['warehouse_block'])\n",
    "a7 = cramer_v(df3['mode_of_shipment'], df3['mode_of_shipment'])\n",
    "a8 = cramer_v(df3['mode_of_shipment'], df3['product_importance'])\n",
    "a9 = cramer_v(df3['mode_of_shipment'], df3['gender'])\n",
    "a10 = cramer_v(df3['mode_of_shipment'], df3['reached.on.time_y.n'])\n",
    "\n",
    "a11 = cramer_v(df3['product_importance'], df3['warehouse_block'])\n",
    "a12 = cramer_v(df3['product_importance'], df3['mode_of_shipment'])\n",
    "a13 = cramer_v(df3['product_importance'], df3['product_importance'])\n",
    "a14 = cramer_v(df3['product_importance'], df3['gender'])\n",
    "a15 = cramer_v(df3['product_importance'], df3['reached.on.time_y.n'])\n",
    "\n",
    "a16 = cramer_v(df3['gender'], df3['warehouse_block'])\n",
    "a17 = cramer_v(df3['gender'], df3['mode_of_shipment'])\n",
    "a18 = cramer_v(df3['gender'], df3['product_importance'])\n",
    "a19 = cramer_v(df3['gender'], df3['gender'])\n",
    "a20 = cramer_v(df3['gender'], df3['reached.on.time_y.n'])\n",
    "\n",
    "a21 = cramer_v(df3['reached.on.time_y.n'], df3['warehouse_block'])\n",
    "a22 = cramer_v(df3['reached.on.time_y.n'], df3['mode_of_shipment'])\n",
    "a23 = cramer_v(df3['reached.on.time_y.n'], df3['product_importance'])\n",
    "a24 = cramer_v(df3['reached.on.time_y.n'], df3['gender'])\n",
    "a25 = cramer_v(df3['reached.on.time_y.n'], df3['reached.on.time_y.n'])\n",
    "\n"
   ]
  },
  {
   "cell_type": "code",
   "execution_count": 165,
   "id": "b9271b80",
   "metadata": {
    "ExecuteTime": {
     "end_time": "2021-06-10T19:03:20.389666Z",
     "start_time": "2021-06-10T19:03:20.378734Z"
    }
   },
   "outputs": [
    {
     "data": {
      "text/html": [
       "<div>\n",
       "<style scoped>\n",
       "    .dataframe tbody tr th:only-of-type {\n",
       "        vertical-align: middle;\n",
       "    }\n",
       "\n",
       "    .dataframe tbody tr th {\n",
       "        vertical-align: top;\n",
       "    }\n",
       "\n",
       "    .dataframe thead th {\n",
       "        text-align: right;\n",
       "    }\n",
       "</style>\n",
       "<table border=\"1\" class=\"dataframe\">\n",
       "  <thead>\n",
       "    <tr style=\"text-align: right;\">\n",
       "      <th></th>\n",
       "      <th>Warehouse_block</th>\n",
       "      <th>Mode_of_shipment</th>\n",
       "      <th>Product_importance</th>\n",
       "      <th>Gender</th>\n",
       "      <th>Reached_on_time</th>\n",
       "    </tr>\n",
       "  </thead>\n",
       "  <tbody>\n",
       "    <tr>\n",
       "      <th>Warehouse_block</th>\n",
       "      <td>1.000000</td>\n",
       "      <td>0.001061</td>\n",
       "      <td>0.019139</td>\n",
       "      <td>0.008656</td>\n",
       "      <td>0.009952</td>\n",
       "    </tr>\n",
       "    <tr>\n",
       "      <th>Mode_of_shipment</th>\n",
       "      <td>0.001061</td>\n",
       "      <td>1.000000</td>\n",
       "      <td>0.010043</td>\n",
       "      <td>0.018211</td>\n",
       "      <td>0.008221</td>\n",
       "    </tr>\n",
       "    <tr>\n",
       "      <th>Product_importance</th>\n",
       "      <td>0.019139</td>\n",
       "      <td>0.010043</td>\n",
       "      <td>1.000000</td>\n",
       "      <td>0.010020</td>\n",
       "      <td>0.033320</td>\n",
       "    </tr>\n",
       "    <tr>\n",
       "      <th>Gender</th>\n",
       "      <td>0.008656</td>\n",
       "      <td>0.018211</td>\n",
       "      <td>0.010020</td>\n",
       "      <td>0.999818</td>\n",
       "      <td>0.004504</td>\n",
       "    </tr>\n",
       "    <tr>\n",
       "      <th>Reached_on_time</th>\n",
       "      <td>0.009952</td>\n",
       "      <td>0.008221</td>\n",
       "      <td>0.033320</td>\n",
       "      <td>0.004504</td>\n",
       "      <td>0.999811</td>\n",
       "    </tr>\n",
       "  </tbody>\n",
       "</table>\n",
       "</div>"
      ],
      "text/plain": [
       "                    Warehouse_block  Mode_of_shipment  Product_importance  \\\n",
       "Warehouse_block            1.000000          0.001061            0.019139   \n",
       "Mode_of_shipment           0.001061          1.000000            0.010043   \n",
       "Product_importance         0.019139          0.010043            1.000000   \n",
       "Gender                     0.008656          0.018211            0.010020   \n",
       "Reached_on_time            0.009952          0.008221            0.033320   \n",
       "\n",
       "                      Gender  Reached_on_time  \n",
       "Warehouse_block     0.008656         0.009952  \n",
       "Mode_of_shipment    0.018211         0.008221  \n",
       "Product_importance  0.010020         0.033320  \n",
       "Gender              0.999818         0.004504  \n",
       "Reached_on_time     0.004504         0.999811  "
      ]
     },
     "execution_count": 165,
     "metadata": {},
     "output_type": "execute_result"
    }
   ],
   "source": [
    "cv = pd.DataFrame({'Warehouse_block' : [a1, a2, a3, a4, a5], 'Mode_of_shipment' : [a6, a7, a8, a9, a10],\n",
    "              'Product_importance': [a11, a12, a13, a14, a15], 'Gender' : [a16, a17, a18, a19, a20],\n",
    "              'Reached_on_time' : [a21, a22, a23, a24, a25]})\n",
    "\n",
    "cv.set_index(cv.columns, inplace = True)\n",
    "\n",
    "cv"
   ]
  },
  {
   "cell_type": "code",
   "execution_count": 170,
   "id": "ed80c250",
   "metadata": {
    "ExecuteTime": {
     "end_time": "2021-06-10T19:04:44.773271Z",
     "start_time": "2021-06-10T19:04:44.538584Z"
    }
   },
   "outputs": [
    {
     "data": {
      "image/png": "[encoded data removed]",
      "text/plain": [
       "<Figure size 1296x720 with 2 Axes>"
      ]
     },
     "metadata": {},
     "output_type": "display_data"
    }
   ],
   "source": [
    "plt.figure(figsize = (18,10))\n",
    "sns.heatmap(cv, annot = True);"
   ]
  }
 ],
 "metadata": {
  "kernelspec": {
   "display_name": "Python 3",
   "language": "python",
   "name": "python3"
  },
  "language_info": {
   "codemirror_mode": {
    "name": "ipython",
    "version": 3
   },
   "file_extension": ".py",
   "mimetype": "text/x-python",
   "name": "python",
   "nbconvert_exporter": "python",
   "pygments_lexer": "ipython3",
   "version": "3.8.8"
  }
 },
 "nbformat": 4,
 "nbformat_minor": 5
}
